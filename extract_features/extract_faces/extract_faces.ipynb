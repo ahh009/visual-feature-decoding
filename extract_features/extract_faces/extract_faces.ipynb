{
 "cells": [
  {
   "cell_type": "markdown",
   "id": "91298ba5-ce32-4e1c-8d74-243598ba1ff4",
   "metadata": {
    "tags": []
   },
   "source": [
    "### This notebook is a walkthrough of how to use extract_faces.py.\n",
    "\n",
    "You will need to have pliers and its face_recognition dependency installed."
   ]
  },
  {
   "cell_type": "markdown",
   "id": "ff3f94e9-89a9-4702-9e0e-13666de3c451",
   "metadata": {},
   "source": [
    "To install, in command line run:"
   ]
  },
  {
   "cell_type": "raw",
   "id": "aaf0c000-fafe-490a-8b7f-c2c14998d9d6",
   "metadata": {},
   "source": [
    "pip install pliers\n",
    "pip install face_recognition"
   ]
  },
  {
   "cell_type": "markdown",
   "id": "ce6ac29f-5739-4d0d-83a5-0b0929d2df9c",
   "metadata": {},
   "source": [
    "This script will read a features.json file that defines the frame sampling rate, the download path, and the save path.\n",
    "For convenience, this .json file should also include the other parameters you may need for extracting semantic or low-level visual features. Make sure that you specify where to find the movies with a complete file path, as well as where to save them."
   ]
  },
  {
   "cell_type": "markdown",
   "id": "595476e2-c7e7-404d-9aaa-1575c97044bf",
   "metadata": {},
   "source": [
    "Note: You may want your sampling rate to match up with the TRs. "
   ]
  },
  {
   "cell_type": "markdown",
   "id": "c8674e3a-d120-40a2-86be-fcdb70444054",
   "metadata": {
    "tags": []
   },
   "source": [
    "#### Here's an example of what should go in the .json file:"
   ]
  },
  {
   "cell_type": "markdown",
   "id": "e1e1f4e4-c097-4dfb-81e8-043ec8d8a9ec",
   "metadata": {},
   "source": [
    "\n",
    "{\"hcpmovies\": {  \n",
    "&emsp;      \"hdim\": 90,                ---> desired horizontal dimension of downsampled image  \n",
    "&emsp;      \"vdim\": 128,               ---> desired vertical dimension of downsampled image  \n",
    "&emsp;      \"fps\": 24,                 ---> frames per second of the movie\n",
    "&emsp;      \"dir\": [0, 30, 60,  90, 120, 150, 180, 210, 240, 270, 300, 330], ---> spatial directions of gabors (aka motion direction)  \n",
    "&emsp;      \"sf\": [0,4,8,16],               ---> spatial frequency range for gabors  \n",
    "&emsp;      \"tf\": [0,4],               ---> temporal frequency range for gabors  \n",
    "&emsp;      \"samplerate\": 1,           ---> the number of frames per second to sample  \n",
    "&emsp;      \"downloadpath\": \"/home/jovyan/shared/hcp-7T_Movies/movie/unzip/Post_20140821_version/\", ---> path to movies  \n",
    "&emsp;      \"movies\": [\"7T_MOVIE1_CC1_v2.mp4\", ---> list of movie names  \n",
    "&emsp; &emsp; &emsp; &emsp; &emsp;  \"7T_MOVIE2_HO1_v2.mp4\",   \n",
    "&emsp; &emsp; &emsp; &emsp; &emsp;  \"7T_MOVIE3_CC2_v2.mp4\",   \n",
    "&emsp; &emsp; &emsp; &emsp; &emsp;  \"7T_MOVIE4_HO2_v2.mp4],\n",
    "&emsp; &emsp; &emsp; &emsp; &emsp;   \n",
    "&emsp; \"savepath\": \"/home/jovyan/workingdirectory/\" ---> where you want to save features  \n",
    "&emsp;      \"TRs\": {\"7T_MOVIE1_CC1_v2\": {\"train1\": [20,265], \"train2\": [285,506], \"train3\": [526,714], \"train4\": [735,798], \"test1\":[818,901]},  \n",
    "&emsp; &emsp; &emsp; &emsp; &emsp;  \"7T_MOVIE2_HO1_v2\": {\"train5\":[20,248],\"train6\":[267,526],\"train7\":[545,795],\"test2\":[815,898]},  \n",
    "&emsp; &emsp; &emsp; &emsp; &emsp;  \"7T_MOVIE3_CC2_v2\": {\"train8\":[20,200],\"train9\": [220,405], \"train10\": [425,628], \"train11\": [650,793], \"test3\": [812,895]},  \n",
    "&emsp; &emsp; &emsp; &emsp; &emsp;  \"7T_MOVIE4_HO2_v2\": {\"train12\":[20,254],\"train13\":[272,503],\"train14\":[522,777],\"test4\":[798,881]}  ---> list of movie names and the associated ranges of TRs to train and test on  \n",
    "&emsp; }  \n",
    "}  "
   ]
  },
  {
   "cell_type": "markdown",
   "id": "9dff7254-0309-4016-90ad-eed5dbcec8ce",
   "metadata": {
    "tags": []
   },
   "source": [
    "#### Package installation\n",
    "Next, we import the packages we will need to extract and save out the features we want."
   ]
  },
  {
   "cell_type": "code",
   "execution_count": 71,
   "id": "539c50a8-2049-471c-b54b-30e56a4de05d",
   "metadata": {
    "tags": []
   },
   "outputs": [],
   "source": [
    "import imageio\n",
    "import pandas as pd\n",
    "import numpy as np\n",
    "from matplotlib import pyplot as plt\n",
    "import seaborn as sns\n",
    "import face_recognition\n",
    "import pliers\n",
    "import os\n",
    "from os.path import join\n",
    "import json\n",
    "\n",
    "from pliers.stimuli import VideoStim\n",
    "from pliers.graph import Graph\n",
    "from pliers.filters import FrameSamplingFilter\n",
    "from pliers.extractors import (FaceRecognitionFaceLocationsExtractor,\n",
    "                               FaceRecognitionFaceEncodingsExtractor,\n",
    "                               merge_results)\n",
    "\n",
    "from pliers.converters import VideoToAudioConverter"
   ]
  },
  {
   "cell_type": "markdown",
   "id": "471402a3-bf8b-45b6-b2b1-88bdb7b852a0",
   "metadata": {
    "tags": []
   },
   "source": [
    "#### To run the extractor in python notebook: "
   ]
  },
  {
   "cell_type": "code",
   "execution_count": 3,
   "id": "96402d1c-dcf9-42f5-8cf2-d81d2b88b4b0",
   "metadata": {
    "tags": []
   },
   "outputs": [],
   "source": [
    "import utils"
   ]
  },
  {
   "cell_type": "markdown",
   "id": "1b4e8f34-1809-4687-abb2-cdd1a3c01fd3",
   "metadata": {},
   "source": [
    "#### JSON file path\n",
    "Your file path will need to be set to the specific json file you want to load in your parameters from."
   ]
  },
  {
   "cell_type": "markdown",
   "id": "15fe17e9-8ebe-44aa-9272-257ff5242327",
   "metadata": {},
   "source": [
    "Here is an example path:"
   ]
  },
  {
   "cell_type": "code",
   "execution_count": 68,
   "id": "9d50d894-f3ab-4d0e-8195-482967e35895",
   "metadata": {
    "tags": []
   },
   "outputs": [],
   "source": [
    "json_filepath = '/home/jovyan/hackathon/visual-feature-decoding/extract_features/feature.json'"
   ]
  },
  {
   "cell_type": "markdown",
   "id": "92b82cb4-1d88-433c-a687-5ff026c79301",
   "metadata": {},
   "source": [
    "#### Extracting the face information\n",
    "This script will take in the movies as specified in your .json file, loop over them, and output an .npz file containing the extracted information. The .npz will contain, by column: \n",
    "\n",
    "[order, sample duration, time of face onset, face identity, coordinates of the bounding box for the identified face (in pixels)]\n",
    "\n",
    "The higher the sampling rate, the longer the extraction will take."
   ]
  },
  {
   "cell_type": "code",
   "execution_count": null,
   "id": "32a73cc2-f49b-48f8-8a74-1ab52e4f38c2",
   "metadata": {
    "tags": []
   },
   "outputs": [],
   "source": [
    "utils.extract_faces(json_filepath)"
   ]
  },
  {
   "cell_type": "markdown",
   "id": "c843d014-3fa2-4373-815d-a093961e727d",
   "metadata": {},
   "source": [
    "If you want to take a quick look at the saved data...\n",
    "\n",
    "Note: Input your own file path to your _faces.npz_ file here"
   ]
  },
  {
   "cell_type": "code",
   "execution_count": 24,
   "id": "975dc957-92b5-44c8-8157-e0fb38121008",
   "metadata": {},
   "outputs": [
    {
     "name": "stdout",
     "output_type": "stream",
     "text": [
      "[[nan 1.0 82.0 0 (204, 760, 590, 375)]\n",
      " [nan 1.0 84.0 0 (134, 812, 455, 491)]\n",
      " [nan 1.0 85.0 0 (76, 803, 461, 418)]\n",
      " [nan 1.0 86.0 0 (170, 919, 491, 598)]\n",
      " [nan 1.0 87.0 0 (0, 546, 376, 161)]\n",
      " [nan 1.0 88.0 0 (40, 656, 502, 194)]\n",
      " [nan 1.0 89.0 0 (0, 546, 376, 161)]\n",
      " [nan 1.0 98.0 0 (167, 631, 322, 476)]\n",
      " [nan 1.0 111.0 0 (175, 472, 218, 429)]\n",
      " [nan 1.0 123.0 0 (211, 330, 319, 223)]\n",
      " [nan 1.0 124.0 0 (175, 438, 283, 330)]\n",
      " [nan 1.0 125.0 0 (80, 462, 187, 354)]\n",
      " [nan 1.0 126.0 0 (282, 540, 411, 411)]\n",
      " [nan 1.0 127.0 0 (260, 825, 528, 557)]\n",
      " [nan 1.0 128.0 0 (290, 854, 558, 587)]\n",
      " [nan 1.0 129.0 0 (171, 943, 439, 676)]\n",
      " [nan 1.0 130.0 0 (125, 468, 254, 339)]\n",
      " [nan 1.0 130.0 1 (217, 984, 440, 761)]\n",
      " [nan 1.0 131.0 0 (168, 597, 297, 468)]\n",
      " [nan 1.0 131.0 1 (217, 1024, 440, 811)]\n",
      " [nan 1.0 149.0 0 (204, 846, 590, 461)]\n",
      " [nan 1.0 150.0 0 (162, 632, 547, 247)]\n",
      " [nan 1.0 151.0 0 (119, 461, 504, 76)]\n",
      " [nan 1.0 152.0 0 (92, 759, 554, 297)]\n",
      " [nan 1.0 153.0 0 (142, 527, 409, 260)]\n",
      " [nan 1.0 154.0 0 (142, 706, 409, 438)]\n",
      " [nan 1.0 155.0 0 (260, 706, 528, 438)]\n",
      " [nan 1.0 176.0 0 (76, 803, 461, 418)]\n",
      " [nan 1.0 177.0 0 (76, 803, 461, 418)]\n",
      " [nan 1.0 178.0 0 (49, 788, 603, 233)]\n",
      " [nan 1.0 197.0 0 (143, 759, 605, 297)]\n",
      " [nan 1.0 201.0 0 (92, 707, 554, 245)]\n",
      " [nan 1.0 202.0 0 (49, 788, 603, 233)]\n",
      " [nan 1.0 203.0 0 (49, 788, 603, 233)]\n",
      " [nan 1.0 224.0 0 (106, 544, 196, 454)]\n",
      " [nan 1.0 230.0 0 (106, 563, 196, 474)]\n",
      " [nan 1.0 231.0 0 (113, 569, 188, 494)]\n",
      " [nan 1.0 303.0 0 (0, 726, 542, 171)]\n",
      " [nan 1.0 304.0 0 (0, 726, 542, 171)]\n",
      " [nan 1.0 315.0 0 (305, 573, 395, 484)]]\n"
     ]
    }
   ],
   "source": [
    "import numpy as np\n",
    "\n",
    "# Load the .npz file\n",
    "data = np.load('/home/jovyan/hackathon/visual-feature-decoding/extract_features/extract_faces/extracted_data/7T_MOVIE1_CC1_v2_faces.npz', allow_pickle=True)\n",
    "\n",
    "# Access the arrays stored in the .npz file using keys\n",
    "features1 = data['features']\n",
    "print(features1[0:40])\n",
    "\n",
    "# Close the file after using it\n",
    "data.close()"
   ]
  },
  {
   "cell_type": "code",
   "execution_count": 25,
   "id": "b311aa9c-bcdc-4aba-b6f6-fd909fe8c745",
   "metadata": {
    "tags": []
   },
   "outputs": [
    {
     "name": "stdout",
     "output_type": "stream",
     "text": [
      "[[nan 1.0 26.0 0 (171, 328, 246, 254)]\n",
      " [nan 1.0 27.0 0 (184, 335, 246, 273)]\n",
      " [nan 1.0 28.0 0 (191, 363, 253, 301)]\n",
      " ...\n",
      " [nan 1.0 892.0 1 (31, 727, 74, 684)]\n",
      " [nan 1.0 892.0 2 (147, 250, 199, 199)]\n",
      " [nan 1.0 892.0 3 (155, 602, 229, 527)]]\n"
     ]
    }
   ],
   "source": [
    "data = np.load('/home/jovyan/hackathon/visual-feature-decoding/extract_features/extract_faces/extracted_data/7T_MOVIE2_HO1_v2_faces.npz', allow_pickle=True)\n",
    "\n",
    "# Access the arrays stored in the .npz file using keys\n",
    "features2 = data['features']\n",
    "print(features2)\n",
    "\n",
    "# Close the file after using it\n",
    "data.close()"
   ]
  },
  {
   "cell_type": "code",
   "execution_count": 26,
   "id": "e7f9ca99-e413-4bc1-9d7f-0b802913ff6d",
   "metadata": {
    "tags": []
   },
   "outputs": [
    {
     "name": "stdout",
     "output_type": "stream",
     "text": [
      "[[nan 1.0 122.0 0 (40, 810, 502, 348)]\n",
      " [nan 1.0 235.0 0 (81, 597, 236, 442)]\n",
      " [nan 1.0 244.0 0 (201, 854, 468, 587)]\n",
      " [nan 1.0 245.0 0 (201, 854, 468, 587)]\n",
      " [nan 1.0 246.0 0 (201, 854, 468, 587)]\n",
      " [nan 1.0 247.0 0 (142, 765, 409, 498)]\n",
      " [nan 1.0 262.0 0 (239, 898, 368, 769)]\n",
      " [nan 1.0 263.0 0 (184, 700, 339, 545)]\n",
      " [nan 1.0 264.0 0 (202, 666, 356, 511)]\n",
      " [nan 1.0 269.0 0 (167, 752, 322, 597)]\n",
      " [nan 1.0 270.0 0 (225, 683, 354, 554)]\n",
      " [nan 1.0 271.0 0 (268, 927, 397, 798)]\n",
      " [nan 1.0 280.0 0 (118, 448, 304, 262)]\n",
      " [nan 1.0 285.0 0 (92, 1016, 554, 553)]\n",
      " [nan 1.0 286.0 0 (92, 1016, 554, 553)]\n",
      " [nan 1.0 287.0 0 (150, 494, 305, 339)]\n",
      " [nan 1.0 289.0 0 (167, 476, 322, 322)]\n",
      " [nan 1.0 298.0 0 (162, 589, 547, 204)]\n",
      " [nan 1.0 299.0 0 (143, 656, 605, 194)]\n",
      " [nan 1.0 300.0 0 (162, 675, 547, 290)]\n",
      " [nan 1.0 305.0 0 (254, 698, 383, 569)]\n",
      " [nan 1.0 306.0 0 (211, 784, 340, 655)]\n",
      " [nan 1.0 307.0 0 (150, 614, 305, 459)]\n",
      " [nan 1.0 307.0 1 (415, 489, 638, 266)]\n",
      " [nan 1.0 316.0 0 (118, 761, 341, 538)]\n",
      " [nan 1.0 322.0 0 (170, 455, 491, 134)]\n",
      " [nan 1.0 353.0 0 (201, 587, 468, 319)]\n",
      " [nan 1.0 385.0 0 (139, 397, 268, 268)]\n",
      " [nan 1.0 386.0 0 (160, 737, 345, 551)]\n",
      " [nan 1.0 387.0 0 (142, 835, 365, 613)]\n",
      " [nan 1.0 388.0 0 (167, 885, 390, 662)]\n",
      " [nan 1.0 389.0 0 (192, 761, 415, 538)]\n",
      " [nan 1.0 390.0 0 (80, 581, 187, 474)]\n",
      " [nan 1.0 392.0 0 (64, 717, 219, 562)]\n",
      " [nan 1.0 394.0 0 (119, 1017, 504, 632)]\n",
      " [nan 1.0 395.0 0 (119, 932, 504, 546)]\n",
      " [nan 1.0 396.0 0 (119, 932, 504, 546)]\n",
      " [nan 1.0 397.0 0 (119, 932, 504, 546)]\n",
      " [nan 1.0 399.0 0 (119, 290, 504, 0)]\n",
      " [nan 1.0 400.0 0 (119, 932, 504, 546)]\n",
      " [nan 1.0 401.0 0 (119, 889, 504, 504)]\n",
      " [nan 1.0 402.0 0 (92, 502, 554, 40)]\n",
      " [nan 1.0 403.0 0 (92, 502, 554, 40)]\n",
      " [nan 1.0 452.0 0 (118, 737, 304, 551)]\n",
      " [nan 1.0 453.0 0 (118, 778, 304, 593)]\n",
      " [nan 1.0 454.0 0 (160, 778, 345, 593)]\n",
      " [nan 1.0 455.0 0 (98, 799, 284, 613)]\n",
      " [nan 1.0 456.0 0 (118, 778, 304, 593)]\n",
      " [nan 1.0 457.0 0 (118, 778, 304, 593)]\n",
      " [nan 1.0 475.0 0 (118, 778, 304, 593)]\n",
      " [nan 1.0 476.0 0 (118, 778, 304, 593)]\n",
      " [nan 1.0 476.0 1 (17, 942, 106, 852)]\n",
      " [nan 1.0 477.0 0 (94, 409, 130, 373)]\n",
      " [nan 1.0 498.0 0 (98, 799, 284, 613)]\n",
      " [nan 1.0 499.0 0 (118, 835, 341, 613)]\n",
      " [nan 1.0 514.0 0 (112, 765, 379, 498)]\n",
      " [nan 1.0 515.0 0 (142, 765, 409, 498)]\n",
      " [nan 1.0 520.0 0 (139, 799, 325, 613)]\n",
      " [nan 1.0 524.0 0 (139, 799, 325, 613)]\n",
      " [nan 1.0 530.0 0 (139, 778, 325, 593)]\n",
      " [nan 1.0 531.0 0 (139, 778, 325, 593)]\n",
      " [nan 1.0 532.0 0 (98, 572, 284, 386)]\n",
      " [nan 1.0 533.0 0 (139, 551, 325, 366)]\n",
      " [nan 1.0 534.0 0 (167, 511, 322, 356)]\n",
      " [nan 1.0 535.0 0 (167, 459, 322, 304)]\n",
      " [nan 1.0 554.0 0 (118, 655, 304, 469)]\n",
      " [nan 1.0 555.0 0 (201, 696, 387, 510)]\n",
      " [nan 1.0 556.0 0 (202, 700, 356, 545)]\n",
      " [nan 1.0 557.0 0 (118, 778, 304, 593)]\n",
      " [nan 1.0 558.0 0 (118, 778, 304, 593)]\n",
      " [nan 1.0 559.0 0 (43, 835, 266, 613)]\n",
      " [nan 1.0 560.0 0 (98, 799, 284, 613)]\n",
      " [nan 1.0 590.0 0 (116, 733, 206, 643)]\n",
      " [nan 1.0 590.0 1 (378, 378, 453, 303)]\n",
      " [nan 1.0 591.0 0 (387, 378, 461, 303)]\n",
      " [nan 1.0 598.0 0 (98, 799, 284, 613)]\n",
      " [nan 1.0 599.0 0 (118, 799, 304, 613)]\n",
      " [nan 1.0 603.0 0 (223, 342, 331, 235)]\n",
      " [nan 1.0 606.0 0 (116, 497, 223, 390)]\n",
      " [nan 1.0 606.0 1 (67, 913, 196, 784)]\n",
      " [nan 1.0 607.0 0 (121, 287, 196, 212)]\n",
      " [nan 1.0 607.0 1 (67, 784, 196, 655)]\n",
      " [nan 1.0 608.0 0 (121, 502, 196, 428)]\n",
      " [nan 1.0 608.0 1 (80, 963, 187, 856)]\n",
      " [nan 1.0 609.0 0 (149, 716, 211, 653)]\n",
      " [nan 1.0 610.0 0 (135, 764, 198, 702)]\n",
      " [nan 1.0 612.0 0 (118, 489, 304, 304)]\n",
      " [nan 1.0 613.0 0 (98, 778, 284, 593)]\n",
      " [nan 1.0 614.0 0 (118, 778, 304, 593)]\n",
      " [nan 1.0 615.0 0 (118, 778, 304, 593)]\n",
      " [nan 1.0 616.0 0 (118, 778, 304, 593)]\n",
      " [nan 1.0 864.0 0 (247, 375, 632, 0)]\n",
      " [nan 1.0 875.0 0 (52, 617, 320, 349)]\n",
      " [nan 1.0 876.0 0 (112, 409, 379, 141)]\n",
      " [nan 1.0 881.0 0 (428, 696, 614, 510)]\n",
      " [nan 1.0 888.0 0 (50, 741, 94, 698)]\n",
      " [nan 1.0 888.0 1 (20, 913, 72, 861)]\n",
      " [nan 1.0 888.0 2 (107, 440, 159, 389)]\n",
      " [nan 1.0 888.0 3 (46, 221, 82, 185)]\n",
      " [nan 1.0 888.0 4 (179, 585, 254, 511)]\n",
      " [nan 1.0 889.0 0 (15, 907, 67, 855)]\n",
      " [nan 1.0 889.0 1 (31, 727, 74, 684)]\n",
      " [nan 1.0 889.0 2 (147, 250, 199, 199)]\n",
      " [nan 1.0 889.0 3 (155, 602, 229, 527)]]\n"
     ]
    }
   ],
   "source": [
    "data = np.load('/home/jovyan/hackathon/visual-feature-decoding/extract_features/extract_faces/extracted_data/7T_MOVIE3_CC2_v2_faces.npz', allow_pickle=True)\n",
    "\n",
    "# Access the arrays stored in the .npz file using keys\n",
    "features3 = data['features']\n",
    "print(features3)\n",
    "\n",
    "# Close the file after using it\n",
    "data.close()"
   ]
  },
  {
   "cell_type": "code",
   "execution_count": 27,
   "id": "28e44ee3-0ebb-49f2-ab0c-2f98f4381b61",
   "metadata": {
    "tags": []
   },
   "outputs": [
    {
     "name": "stdout",
     "output_type": "stream",
     "text": [
      "[[nan 1.0 76.0 0 (231, 765, 498, 498)]\n",
      " [nan 1.0 77.0 0 (206, 812, 527, 491)]\n",
      " [nan 1.0 78.0 0 (260, 765, 528, 498)]\n",
      " ...\n",
      " [nan 1.0 875.0 1 (31, 727, 74, 684)]\n",
      " [nan 1.0 875.0 2 (147, 250, 199, 199)]\n",
      " [nan 1.0 875.0 3 (87, 467, 149, 405)]]\n"
     ]
    }
   ],
   "source": [
    "data = np.load('/home/jovyan/hackathon/visual-feature-decoding/extract_features/extract_faces/extracted_data/7T_MOVIE4_HO2_v2_faces.npz', allow_pickle=True)\n",
    "\n",
    "# Access the arrays stored in the .npz file using keys\n",
    "features4 = data['features']\n",
    "print(features4)\n",
    "\n",
    "# Close the file after using it\n",
    "data.close()"
   ]
  },
  {
   "cell_type": "code",
   "execution_count": 22,
   "id": "68c91181-6e0b-4816-9ef1-f113f7c0c5e5",
   "metadata": {
    "tags": []
   },
   "outputs": [],
   "source": [
    "# Create arrays of 0s for each movie\n",
    "\n",
    "zero_df1 = pd.DataFrame({'Column1': [0] * 921})\n",
    "\n",
    "zero_df2 = pd.DataFrame({'Column1': [0] * 918})\n",
    "\n",
    "zero_df3 = pd.DataFrame({'Column1': [0] * 915})\n",
    "\n",
    "zero_df4 = pd.DataFrame({'Column1': [0] * 901})\n"
   ]
  },
  {
   "cell_type": "code",
   "execution_count": 28,
   "id": "3906c91f-d862-43b6-86b9-c6d5bb1c946e",
   "metadata": {
    "tags": []
   },
   "outputs": [],
   "source": [
    "# Pull out times at which faces are present \n",
    "values_from_array1 = features1[:, 2]\n",
    "values_from_array2 = features2[:, 2]\n",
    "values_from_array3 = features3[:, 2]\n",
    "values_from_array4 = features4[:, 2]\n"
   ]
  },
  {
   "cell_type": "code",
   "execution_count": 30,
   "id": "8f6f0f39-5fc6-4eca-9dee-39252be76b92",
   "metadata": {
    "tags": []
   },
   "outputs": [
    {
     "name": "stdout",
     "output_type": "stream",
     "text": [
      "       Column1\n",
      "82.0         1\n",
      "84.0         1\n",
      "85.0         1\n",
      "86.0         1\n",
      "87.0         1\n",
      "...        ...\n",
      "895.0        1\n",
      "895.0        1\n",
      "895.0        1\n",
      "895.0        1\n",
      "895.0        1\n",
      "\n",
      "[250 rows x 1 columns]\n",
      "       Column1\n",
      "26.0         1\n",
      "27.0         1\n",
      "28.0         1\n",
      "28.0         1\n",
      "29.0         1\n",
      "...        ...\n",
      "891.0        1\n",
      "892.0        1\n",
      "892.0        1\n",
      "892.0        1\n",
      "892.0        1\n",
      "\n",
      "[718 rows x 1 columns]\n",
      "       Column1\n",
      "122.0        1\n",
      "235.0        1\n",
      "244.0        1\n",
      "245.0        1\n",
      "246.0        1\n",
      "...        ...\n",
      "888.0        1\n",
      "889.0        1\n",
      "889.0        1\n",
      "889.0        1\n",
      "889.0        1\n",
      "\n",
      "[104 rows x 1 columns]\n",
      "       Column1\n",
      "76.0         1\n",
      "77.0         1\n",
      "78.0         1\n",
      "79.0         1\n",
      "94.0         1\n",
      "...        ...\n",
      "874.0        1\n",
      "875.0        1\n",
      "875.0        1\n",
      "875.0        1\n",
      "875.0        1\n",
      "\n",
      "[211 rows x 1 columns]\n"
     ]
    }
   ],
   "source": [
    "# turn those times into indices for a separate array of 1s\n",
    "ones_df1 = pd.DataFrame({'Column1': [1] * len(values_from_array1)}, index=values_from_array1)\n",
    "print(ones_df1)\n",
    "\n",
    "ones_df2 = pd.DataFrame({'Column1': [1] * len(values_from_array2)}, index=values_from_array2)\n",
    "print(ones_df2)\n",
    "\n",
    "ones_df3 = pd.DataFrame({'Column1': [1] * len(values_from_array3)}, index=values_from_array3)\n",
    "print(ones_df3)\n",
    "\n",
    "ones_df4 = pd.DataFrame({'Column1': [1] * len(values_from_array4)}, index=values_from_array4)\n",
    "print(ones_df4)"
   ]
  },
  {
   "cell_type": "code",
   "execution_count": 50,
   "id": "0a3c98bb-9b89-47a6-8b0c-8179301fb9ec",
   "metadata": {
    "tags": []
   },
   "outputs": [
    {
     "name": "stdout",
     "output_type": "stream",
     "text": [
      "     Column1\n",
      "100        0\n",
      "101        0\n",
      "102        0\n",
      "103        0\n",
      "104        0\n",
      "105        0\n",
      "106        0\n",
      "107        0\n",
      "108        0\n",
      "109        0\n",
      "110        0\n",
      "111        1\n",
      "112        0\n",
      "113        0\n",
      "114        0\n",
      "115        0\n",
      "116        0\n",
      "117        0\n",
      "118        0\n",
      "119        0\n",
      "120        0\n",
      "121        0\n",
      "122        0\n",
      "123        1\n",
      "124        1\n",
      "125        1\n",
      "126        1\n",
      "127        1\n",
      "128        1\n",
      "129        1\n"
     ]
    }
   ],
   "source": [
    "# Take the 1s df and overwrite the rows in the zeros df accordingly\n",
    "\n",
    "zero_df1.loc[ones_df1.index, 'Column1'] = ones_df1['Column1']\n",
    "print(zero_df1[100:130])\n",
    "\n",
    "zero_df2.loc[ones_df2.index, 'Column1'] = ones_df2['Column1']\n",
    "# print(zero_df1[100:130])\n",
    "\n",
    "zero_df3.loc[ones_df3.index, 'Column1'] = ones_df3['Column1']\n",
    "# print(zero_df3[100:130])\n",
    "\n",
    "zero_df4.loc[ones_df4.index, 'Column1'] = ones_df4['Column1']\n",
    "# print(zero_df4[100:130])"
   ]
  },
  {
   "cell_type": "code",
   "execution_count": 62,
   "id": "af4e590a-27d0-4d8f-9088-8f44bc977f2f",
   "metadata": {
    "tags": []
   },
   "outputs": [
    {
     "data": {
      "text/plain": [
       "921"
      ]
     },
     "execution_count": 62,
     "metadata": {},
     "output_type": "execute_result"
    }
   ],
   "source": [
    "# check length\n",
    "len(zero_df1)"
   ]
  },
  {
   "cell_type": "code",
   "execution_count": 57,
   "id": "922a51e8-160c-42cd-b8b2-b2552d0c0393",
   "metadata": {
    "tags": []
   },
   "outputs": [
    {
     "name": "stdout",
     "output_type": "stream",
     "text": [
      "    Column1\n",
      "0         0\n",
      "1         0\n",
      "2         0\n",
      "3         0\n",
      "4         0\n",
      "..      ...\n",
      "716       0\n",
      "717       1\n",
      "718       0\n",
      "719       0\n",
      "720       0\n",
      "\n",
      "[721 rows x 1 columns]\n"
     ]
    }
   ],
   "source": [
    "# MOVIE1\n",
    "\n",
    "# List of ranges for rows you want to keep, based off training set TRs\n",
    "row_ranges1 = [(20, 265), (285, 506), (526, 714), (735, 798)]\n",
    "\n",
    "# Create an empty DataFrame to store the selected rows\n",
    "trimmed_df1 = pd.DataFrame(columns=zero_df1.columns)\n",
    "\n",
    "# Iterate through the row ranges and select rows from zero_df1\n",
    "for start, end in row_ranges1:\n",
    "    selected_rows = zero_df1.iloc[start:end+1]\n",
    "    trimmed_df1 = pd.concat([trimmed_df1, selected_rows])\n",
    "\n",
    "# Reset index of the resulting DataFrame\n",
    "trimmed_df1.reset_index(drop=True, inplace=True)\n",
    "\n",
    "# Save the trimmed DataFrame to a new file or variable\n",
    "# trimmed_df1.to_csv('trimmed_df1.csv', index=False)\n",
    "# or\n",
    "# trimmed_df1.to_excel('trimmed_df1.xlsx', index=False)\n",
    "\n",
    "print(trimmed_df1)\n"
   ]
  },
  {
   "cell_type": "code",
   "execution_count": 58,
   "id": "565c5d68-1d97-4d2b-95b1-72052035481c",
   "metadata": {
    "tags": []
   },
   "outputs": [
    {
     "name": "stdout",
     "output_type": "stream",
     "text": [
      "    Column1\n",
      "0         0\n",
      "1         0\n",
      "2         0\n",
      "3         0\n",
      "4         0\n",
      "..      ...\n",
      "735       0\n",
      "736       0\n",
      "737       0\n",
      "738       0\n",
      "739       0\n",
      "\n",
      "[740 rows x 1 columns]\n"
     ]
    }
   ],
   "source": [
    "# MOVIE2\n",
    "\n",
    "# List of ranges for rows you want to keep\n",
    "row_ranges2 = [(20,248), (267,526), (545,795)]\n",
    "\n",
    "# Create an empty DataFrame to store the selected rows\n",
    "trimmed_df2 = pd.DataFrame(columns=zero_df2.columns)\n",
    "\n",
    "# Iterate through the row ranges and select rows from zero_df1\n",
    "for start, end in row_ranges2:\n",
    "    selected_rows = zero_df2.iloc[start:end+1]\n",
    "    trimmed_df2 = pd.concat([trimmed_df2, selected_rows])\n",
    "\n",
    "# Reset index of the resulting DataFrame\n",
    "trimmed_df2.reset_index(drop=True, inplace=True)\n",
    "\n",
    "# Save the trimmed DataFrame to a new file or variable\n",
    "# trimmed_df1.to_csv('trimmed_df1.csv', index=False)\n",
    "# or\n",
    "# trimmed_df1.to_excel('trimmed_df1.xlsx', index=False)\n",
    "\n",
    "print(trimmed_df2)"
   ]
  },
  {
   "cell_type": "code",
   "execution_count": 59,
   "id": "455b261a-690f-4419-9876-9bc77f99ba0e",
   "metadata": {
    "tags": []
   },
   "outputs": [
    {
     "name": "stdout",
     "output_type": "stream",
     "text": [
      "    Column1\n",
      "0         0\n",
      "1         0\n",
      "2         0\n",
      "3         0\n",
      "4         0\n",
      "..      ...\n",
      "710       0\n",
      "711       0\n",
      "712       0\n",
      "713       0\n",
      "714       0\n",
      "\n",
      "[715 rows x 1 columns]\n"
     ]
    }
   ],
   "source": [
    "# MOVIE3\n",
    "\n",
    "# List of ranges for rows you want to keep\n",
    "row_ranges3 = [(20,200), (220,405), (425,628), (650,793)]\n",
    "\n",
    "# Create an empty DataFrame to store the selected rows\n",
    "trimmed_df3 = pd.DataFrame(columns=zero_df3.columns)\n",
    "\n",
    "# Iterate through the row ranges and select rows from zero_df1\n",
    "for start, end in row_ranges3:\n",
    "    selected_rows = zero_df3.iloc[start:end+1]\n",
    "    trimmed_df3 = pd.concat([trimmed_df3, selected_rows])\n",
    "\n",
    "# Reset index of the resulting DataFrame\n",
    "trimmed_df3.reset_index(drop=True, inplace=True)\n",
    "\n",
    "# Save the trimmed DataFrame to a new file or variable\n",
    "# trimmed_df1.to_csv('trimmed_df1.csv', index=False)\n",
    "# or\n",
    "# trimmed_df1.to_excel('trimmed_df1.xlsx', index=False)\n",
    "\n",
    "print(trimmed_df3)"
   ]
  },
  {
   "cell_type": "code",
   "execution_count": 60,
   "id": "90efaa14-92e6-4bad-a1e9-d599e8bc11b0",
   "metadata": {
    "tags": []
   },
   "outputs": [
    {
     "name": "stdout",
     "output_type": "stream",
     "text": [
      "    Column1\n",
      "0         0\n",
      "1         0\n",
      "2         0\n",
      "3         0\n",
      "4         0\n",
      "..      ...\n",
      "718       0\n",
      "719       0\n",
      "720       0\n",
      "721       0\n",
      "722       0\n",
      "\n",
      "[723 rows x 1 columns]\n"
     ]
    }
   ],
   "source": [
    "# MOVIE4\n",
    "\n",
    "# List of ranges for rows you want to keep\n",
    "row_ranges4 = [(20,254), (272,503), (522,777)]\n",
    "\n",
    "# Create an empty DataFrame to store the selected rows\n",
    "trimmed_df4 = pd.DataFrame(columns=zero_df4.columns)\n",
    "\n",
    "# Iterate through the row ranges and select rows from zero_df1\n",
    "for start, end in row_ranges4:\n",
    "    selected_rows = zero_df4.iloc[start:end+1]\n",
    "    trimmed_df4 = pd.concat([trimmed_df4, selected_rows])\n",
    "\n",
    "# Reset index of the resulting DataFrame\n",
    "trimmed_df4.reset_index(drop=True, inplace=True)\n",
    "\n",
    "# Save the trimmed DataFrame to a new file or variable\n",
    "# trimmed_df1.to_csv('trimmed_df1.csv', index=False)\n",
    "# or\n",
    "# trimmed_df1.to_excel('trimmed_df1.xlsx', index=False)\n",
    "\n",
    "print(trimmed_df4)"
   ]
  },
  {
   "cell_type": "code",
   "execution_count": 61,
   "id": "841e59cd-d79a-41e5-b465-3e8538a2a485",
   "metadata": {
    "tags": []
   },
   "outputs": [
    {
     "data": {
      "text/plain": [
       "2899"
      ]
     },
     "execution_count": 61,
     "metadata": {},
     "output_type": "execute_result"
    }
   ],
   "source": [
    "len(trimmed_df1) + len(trimmed_df2) + len (trimmed_df3) + len(trimmed_df4)"
   ]
  },
  {
   "cell_type": "code",
   "execution_count": 120,
   "id": "80739ad3-ec4f-4026-b970-e049e86dc787",
   "metadata": {
    "tags": []
   },
   "outputs": [
    {
     "name": "stdout",
     "output_type": "stream",
     "text": [
      "(250, 5)\n",
      "(718, 5)\n",
      "(104, 5)\n",
      "(211, 5)\n"
     ]
    }
   ],
   "source": [
    "# def save_cleaned_features(json_filepath):\n",
    "with open(json_filepath) as f:\n",
    "    data = json.load(f)\n",
    "\n",
    "# load in json data\n",
    "for stimuli, stimuli_data in data.items():\n",
    "    fps = stimuli_data['fps']\n",
    "    sr = stimuli_data['samplerate']\n",
    "    dirr = stimuli_data['dir']\n",
    "    downloadpath = stimuli_data['downloadpath']\n",
    "    movies = stimuli_data['movies']\n",
    "    savepath = stimuli_data['savepath']\n",
    "    TRs = stimuli_data['TRs']\n",
    "\n",
    "    x_train = []\n",
    "    x_test = []\n",
    "\n",
    "    total_TR = [921, 918, 915, 901]\n",
    "\n",
    "    ### need to edit this to take in correct movies\n",
    "    for movie,runs in TRs.items():\n",
    "        if movie == '7T_MOVIE1_CC1_v2':\n",
    "            array_1 = np.zeros((921,1))\n",
    "            features = np.load(f\"/home/jovyan/hackathon/visual-feature-decoding/extract_features/extract_faces/extracted_data/{movie}_faces.npz\", allow_pickle=True)['features']\n",
    "            # features = np.load(f\"/home/jovyan/workingdirectory/{movie}_downsampledfeatures.npz\", allow_pickle=True)['features']\n",
    "            print(features.shape)\n",
    "            indices = features[:,2]\n",
    "            for x in indices:\n",
    "                x = int(x)\n",
    "                # print(x)\n",
    "                # print(indices.shape)\n",
    "                array_1[x,:] = 1\n",
    "                \n",
    "        if movie == '7T_MOVIE2_HO1_v2':\n",
    "            array_2 = np.zeros((918,1))\n",
    "            features = np.load(f\"/home/jovyan/hackathon/visual-feature-decoding/extract_features/extract_faces/extracted_data/{movie}_faces.npz\", allow_pickle=True)['features']\n",
    "            print(features.shape)\n",
    "            indices = features[:,2]\n",
    "            for x in indices:\n",
    "                x = int(x)\n",
    "                array_2[x,:] = 1\n",
    "\n",
    "        if movie == '7T_MOVIE3_CC2_v2':\n",
    "            array_3 = np.zeros((915,1))\n",
    "            features = np.load(f\"/home/jovyan/hackathon/visual-feature-decoding/extract_features/extract_faces/extracted_data/{movie}_faces.npz\", allow_pickle=True)['features']\n",
    "            print(features.shape)\n",
    "            indices = features[:,2]\n",
    "            for x in indices:\n",
    "                x = int(x)\n",
    "                array_3[x,:] = 1\n",
    "\n",
    "        if movie == '7T_MOVIE4_HO2_v2':\n",
    "            array_4 = np.zeros((901,1))\n",
    "            features = np.load(f\"/home/jovyan/hackathon/visual-feature-decoding/extract_features/extract_faces/extracted_data/{movie}_faces.npz\", allow_pickle=True)['features']\n",
    "            print(features.shape)\n",
    "            indices = features[:,2]\n",
    "            for x in indices:\n",
    "                x = int(x)\n",
    "                array_4[x,:] = 1\n",
    "                \n",
    "    \n",
    "                \n",
    "                \n",
    "        # for key, run in runs.items():\n",
    "        #     if key.startswith('train'):\n",
    "        #         x_train.append(features[:,run[0]:run[1]])\n",
    "        #     if key.startswith('test'):\n",
    "        #         x_test.append(features[:,run[0]:run[1]])\n",
    "\n",
    "#     X_train = np.concatenate(x_train, axis=1)\n",
    "#     X_test = np.stack(x_test)\n",
    "#     np.savez(savepath + \"face_features_all.npz\", x_train=X_train, x_test=X_test)\n",
    "\n",
    "# return None"
   ]
  },
  {
   "cell_type": "code",
   "execution_count": 113,
   "id": "43693ad1-2647-4dda-a180-f47af32cca7b",
   "metadata": {
    "tags": []
   },
   "outputs": [],
   "source": [
    "# MOVIE 1\n",
    "transposed_array_1 = np.transpose(array_1)\n",
    "# Save the transposed array as an npz file\n",
    "np.savez('7T_MOVIE1_CC1_v2_downsampledfeatures.npz', features=transposed_array_1)\n",
    "\n",
    "# MOVIE 2\n",
    "transposed_array_2 = np.transpose(array_2)\n",
    "# Save the transposed array as an npz file\n",
    "np.savez('7T_MOVIE2_HO1_v2_downsampledfeatures.npz', features=transposed_array_2)\n",
    "\n",
    "# MOVIE 3\n",
    "transposed_array_3 = np.transpose(array_3)\n",
    "# Save the transposed array as an npz file\n",
    "np.savez('7T_MOVIE3_CC2_v2_downsampledfeatures.npz', features=transposed_array_3)\n",
    "\n",
    "# MOVIE 4\n",
    "transposed_array_4 = np.transpose(array_4)\n",
    "# Save the transposed array as an npz file\n",
    "np.savez('7T_MOVIE4_HO2_v2_downsampledfeatures.npz', features=transposed_array_4)"
   ]
  },
  {
   "cell_type": "code",
   "execution_count": 126,
   "id": "6f994b72-c705-497e-b9cf-3644c536ee14",
   "metadata": {
    "tags": []
   },
   "outputs": [],
   "source": [
    "with open(json_filepath) as f:\n",
    "    data = json.load(f)\n",
    "\n",
    "for stimuli, stimuli_data in data.items():\n",
    "    fps = stimuli_data['fps']\n",
    "    sr = stimuli_data['samplerate']\n",
    "    dirr = stimuli_data['dir']\n",
    "    downloadpath = stimuli_data['downloadpath']\n",
    "    movies = stimuli_data['movies']\n",
    "    savepath = stimuli_data['savepath']\n",
    "    TRs = stimuli_data['TRs']\n",
    "\n",
    "    x_train = []\n",
    "    x_test = []\n",
    "\n",
    "    # total_TR = [921, 918, 915, 901]\n",
    "\n",
    "\n",
    "        ### need to edit this to take in correct movies\n",
    "    for movie,runs in TRs.items():\n",
    "        features = np.load(f\"/home/jovyan/hackathon/visual-feature-decoding/extract_features/extract_faces/{movie}_downsampledfeatures.npz\", allow_pickle=True)['features']\n",
    "        for key, run in runs.items():\n",
    "            if key.startswith('train'):\n",
    "                x_train.append(features[:,run[0]:run[1]])\n",
    "            if key.startswith('test'):\n",
    "                x_test.append(features[:,run[0]:run[1]])\n",
    "\n",
    "    X_train = np.concatenate(x_train, axis=1)\n",
    "    X_test = np.stack(x_test)\n",
    "    np.savez(savepath + \"face_features_all.npz\", x_train=X_train, x_test=X_test)\n",
    "\n",
    "# return None"
   ]
  },
  {
   "cell_type": "code",
   "execution_count": 127,
   "id": "3a87896d-a934-45b4-a7de-5b735015ae0a",
   "metadata": {
    "tags": []
   },
   "outputs": [
    {
     "data": {
      "text/plain": [
       "(1, 2885)"
      ]
     },
     "execution_count": 127,
     "metadata": {},
     "output_type": "execute_result"
    }
   ],
   "source": [
    "X_train.shape"
   ]
  },
  {
   "cell_type": "code",
   "execution_count": null,
   "id": "6b4fbeaa-fd84-4a86-92a6-130eecc871b0",
   "metadata": {},
   "outputs": [],
   "source": []
  }
 ],
 "metadata": {
  "kernelspec": {
   "display_name": "Python 3 (ipykernel)",
   "language": "python",
   "name": "python3"
  },
  "language_info": {
   "codemirror_mode": {
    "name": "ipython",
    "version": 3
   },
   "file_extension": ".py",
   "mimetype": "text/x-python",
   "name": "python",
   "nbconvert_exporter": "python",
   "pygments_lexer": "ipython3",
   "version": "3.10.11"
  }
 },
 "nbformat": 4,
 "nbformat_minor": 5
}
