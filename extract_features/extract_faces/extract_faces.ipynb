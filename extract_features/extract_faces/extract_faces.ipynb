{
 "cells": [
  {
   "cell_type": "code",
   "execution_count": null,
   "id": "6e5deaa3-64e3-4ee8-a188-c0aa6dca0e94",
   "metadata": {},
   "outputs": [],
   "source": [
    "'''\n",
    "Setup for using pliers to extract faces from .mp4 files:\n",
    "    1. Install pliers and necessary dependencies\n",
    "    2. Ensure video files to be extracted from are in the correct folder (filepath currently hardcoded)\n",
    "    \n",
    "TODO:\n",
    "    - Create function to auto populate file path?\n",
    "    - Create function to auto detect video length (in s)?\n",
    "    - Figure out what result_df is actually storing...\n",
    "'''"
   ]
  },
  {
   "cell_type": "code",
   "execution_count": null,
   "id": "3853f114-cdab-4683-8000-6b36cbfe81d0",
   "metadata": {},
   "outputs": [],
   "source": [
    "# If pliers + face_recognition not currently installed:\n",
    "pip install pliers\n",
    "pip install face_recognition"
   ]
  },
  {
   "cell_type": "code",
   "execution_count": 1,
   "id": "539c50a8-2049-471c-b54b-30e56a4de05d",
   "metadata": {
    "tags": []
   },
   "outputs": [],
   "source": [
    "import imageio\n",
    "import pandas as pd\n",
    "from matplotlib import pyplot as plt\n",
    "import seaborn as sns\n",
    "import pliers\n",
    "from os.path import join\n",
    "\n",
    "from pliers.stimuli import VideoStim\n",
    "from pliers.graph import Graph\n",
    "from pliers.filters import FrameSamplingFilter\n",
    "#from pliers.extractors import (FaceRecognitionFaceLocationsExtractor,\n",
    "                               #FaceRecognitionFaceEncodingsExtractor,\n",
    "                               #MicrosoftAPIFaceExtractor,\n",
    "                               #GoogleVisionAPIFaceExtractor,\n",
    "                               #merge_results)\n",
    "from pliers.extractors import (FaceRecognitionFaceLocationsExtractor,\n",
    "                               FaceRecognitionFaceEncodingsExtractor,\n",
    "                               merge_results)\n",
    "\n",
    "from pliers.converters import VideoToAudioConverter"
   ]
  },
  {
   "cell_type": "code",
   "execution_count": 2,
   "id": "a392b925-46bb-4235-9324-3eb88e38419f",
   "metadata": {
    "tags": []
   },
   "outputs": [
    {
     "name": "stderr",
     "output_type": "stream",
     "text": [
      "Stim: 686it [03:31,  3.25it/s]\n"
     ]
    }
   ],
   "source": [
    "# Save the video to be analyzed into a variable.\n",
    "video = VideoStim(r'/home/jovyan/hackathon/visual-feature-decoding/extract_features/extract_faces/video_clips/Discussion Stock Footage - Discussion Free Stock Videos - Discussion No Copyright Videos (480p).mp4')\n",
    "#    AHH: This is currently hardcoded to my jupyterhub file path where the video to analyze is saved.\n",
    "#    Fix: create a function that will substitute the first part of the path string?\n",
    "\n",
    "# This is sampling at the rate of 2 Hz (2 frames per sec). To downsample further, change hertz to 1 or 0.5. \n",
    "#    AHH: This step takes a while, but is quicker the more you downsample. \n",
    "sampler = FrameSamplingFilter(hertz=2)\n",
    "frames = sampler.transform(video)\n",
    "\n",
    "# Detect faces in selected frames\n",
    "face_ext = FaceRecognitionFaceLocationsExtractor()\n",
    "# face_ext = FaceRecognitionFaceEncodingsExtractor() # AHH - need to figure out how EncodingsExtractor differs from LocationsExtractor\n",
    "face_result = face_ext.transform(frames)"
   ]
  },
  {
   "cell_type": "code",
   "execution_count": 3,
   "id": "f6a1ab64-96fd-460f-a3fa-6b2b8f0f9eeb",
   "metadata": {
    "tags": []
   },
   "outputs": [
    {
     "data": {
      "text/html": [
       "<div>\n",
       "<style scoped>\n",
       "    .dataframe tbody tr th:only-of-type {\n",
       "        vertical-align: middle;\n",
       "    }\n",
       "\n",
       "    .dataframe tbody tr th {\n",
       "        vertical-align: top;\n",
       "    }\n",
       "\n",
       "    .dataframe thead th {\n",
       "        text-align: right;\n",
       "    }\n",
       "</style>\n",
       "<table border=\"1\" class=\"dataframe\">\n",
       "  <thead>\n",
       "    <tr style=\"text-align: right;\">\n",
       "      <th></th>\n",
       "      <th>order</th>\n",
       "      <th>duration</th>\n",
       "      <th>onset</th>\n",
       "      <th>object_id</th>\n",
       "      <th>face_locations</th>\n",
       "    </tr>\n",
       "  </thead>\n",
       "  <tbody>\n",
       "    <tr>\n",
       "      <th>0</th>\n",
       "      <td>NaN</td>\n",
       "      <td>0.52</td>\n",
       "      <td>15.48</td>\n",
       "      <td>0</td>\n",
       "      <td>(86, 364, 176, 275)</td>\n",
       "    </tr>\n",
       "    <tr>\n",
       "      <th>1</th>\n",
       "      <td>NaN</td>\n",
       "      <td>0.52</td>\n",
       "      <td>15.48</td>\n",
       "      <td>1</td>\n",
       "      <td>(106, 573, 196, 484)</td>\n",
       "    </tr>\n",
       "    <tr>\n",
       "      <th>0</th>\n",
       "      <td>NaN</td>\n",
       "      <td>0.48</td>\n",
       "      <td>16.00</td>\n",
       "      <td>0</td>\n",
       "      <td>(68, 354, 175, 247)</td>\n",
       "    </tr>\n",
       "    <tr>\n",
       "      <th>1</th>\n",
       "      <td>NaN</td>\n",
       "      <td>0.48</td>\n",
       "      <td>16.00</td>\n",
       "      <td>1</td>\n",
       "      <td>(92, 581, 199, 474)</td>\n",
       "    </tr>\n",
       "    <tr>\n",
       "      <th>0</th>\n",
       "      <td>NaN</td>\n",
       "      <td>0.52</td>\n",
       "      <td>16.48</td>\n",
       "      <td>0</td>\n",
       "      <td>(76, 344, 166, 255)</td>\n",
       "    </tr>\n",
       "    <tr>\n",
       "      <th>1</th>\n",
       "      <td>NaN</td>\n",
       "      <td>0.52</td>\n",
       "      <td>16.48</td>\n",
       "      <td>1</td>\n",
       "      <td>(92, 581, 199, 474)</td>\n",
       "    </tr>\n",
       "    <tr>\n",
       "      <th>0</th>\n",
       "      <td>NaN</td>\n",
       "      <td>0.48</td>\n",
       "      <td>17.00</td>\n",
       "      <td>0</td>\n",
       "      <td>(76, 344, 166, 255)</td>\n",
       "    </tr>\n",
       "    <tr>\n",
       "      <th>1</th>\n",
       "      <td>NaN</td>\n",
       "      <td>0.48</td>\n",
       "      <td>17.00</td>\n",
       "      <td>1</td>\n",
       "      <td>(92, 581, 199, 474)</td>\n",
       "    </tr>\n",
       "    <tr>\n",
       "      <th>0</th>\n",
       "      <td>NaN</td>\n",
       "      <td>0.52</td>\n",
       "      <td>17.48</td>\n",
       "      <td>0</td>\n",
       "      <td>(86, 335, 176, 245)</td>\n",
       "    </tr>\n",
       "    <tr>\n",
       "      <th>1</th>\n",
       "      <td>NaN</td>\n",
       "      <td>0.52</td>\n",
       "      <td>17.48</td>\n",
       "      <td>1</td>\n",
       "      <td>(106, 573, 196, 484)</td>\n",
       "    </tr>\n",
       "  </tbody>\n",
       "</table>\n",
       "</div>"
      ],
      "text/plain": [
       "   order  duration  onset  object_id        face_locations\n",
       "0    NaN      0.52  15.48          0   (86, 364, 176, 275)\n",
       "1    NaN      0.52  15.48          1  (106, 573, 196, 484)\n",
       "0    NaN      0.48  16.00          0   (68, 354, 175, 247)\n",
       "1    NaN      0.48  16.00          1   (92, 581, 199, 474)\n",
       "0    NaN      0.52  16.48          0   (76, 344, 166, 255)\n",
       "1    NaN      0.52  16.48          1   (92, 581, 199, 474)\n",
       "0    NaN      0.48  17.00          0   (76, 344, 166, 255)\n",
       "1    NaN      0.48  17.00          1   (92, 581, 199, 474)\n",
       "0    NaN      0.52  17.48          0   (86, 335, 176, 245)\n",
       "1    NaN      0.52  17.48          1  (106, 573, 196, 484)"
      ]
     },
     "execution_count": 3,
     "metadata": {},
     "output_type": "execute_result"
    }
   ],
   "source": [
    "# AHH: Let's just look at the df...\n",
    "result_df = [f.to_df() for f in face_result]\n",
    "\n",
    "result_df = pd.concat(result_df)\n",
    "\n",
    "result_df.head(10)"
   ]
  },
  {
   "cell_type": "code",
   "execution_count": 4,
   "id": "86a55e34-402e-4fdc-80e3-535c6e6074d6",
   "metadata": {
    "tags": []
   },
   "outputs": [],
   "source": [
    "import numpy as np\n",
    "# Set the range of time over which to plot extracted faces.\n",
    "#     AHH: Again, this needs to be manually set currently. Maybe set the range automatically based on the number of frames given the sampling Hz...?\n",
    "#     Total s = number of frames / Hz\n",
    "time = np.arange(0,342,0.5)"
   ]
  },
  {
   "cell_type": "code",
   "execution_count": 5,
   "id": "089446ca-64a6-42d7-abc5-5d618717985e",
   "metadata": {
    "tags": []
   },
   "outputs": [
    {
     "data": {
      "text/plain": [
       "[<matplotlib.lines.Line2D at 0x7fb744da46d0>]"
      ]
     },
     "execution_count": 5,
     "metadata": {},
     "output_type": "execute_result"
    },
    {
     "data": {
      "image/png": "[encoded data removed]",
      "text/plain": [
       "<Figure size 640x480 with 1 Axes>"
      ]
     },
     "metadata": {},
     "output_type": "display_data"
    }
   ],
   "source": [
    "# AHH: I'm pretty sure all this is doing is plotting whether a face is present or not at each sampled frame.\n",
    "# Plotting location or face_encoding could be more interesting!\n",
    "plt.plot(time, [t in result_df[\"onset\"].values for t in time])"
   ]
  }
 ],
 "metadata": {
  "kernelspec": {
   "display_name": "Python 3 (ipykernel)",
   "language": "python",
   "name": "python3"
  },
  "language_info": {
   "codemirror_mode": {
    "name": "ipython",
    "version": 3
   },
   "file_extension": ".py",
   "mimetype": "text/x-python",
   "name": "python",
   "nbconvert_exporter": "python",
   "pygments_lexer": "ipython3",
   "version": "3.10.11"
  }
 },
 "nbformat": 4,
 "nbformat_minor": 5
}
