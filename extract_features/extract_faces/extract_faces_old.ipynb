{
 "cells": [
  {
   "cell_type": "markdown",
   "id": "91298ba5-ce32-4e1c-8d74-243598ba1ff4",
   "metadata": {},
   "source": [
    "### This notebook is a walkthrough of how to use extract_faces.py.\n",
    "\n",
    "You will need to have pliers and its face_recognition dependency installed.\n",
    "In command line:"
   ]
  },
  {
   "cell_type": "raw",
   "id": "aaf0c000-fafe-490a-8b7f-c2c14998d9d6",
   "metadata": {},
   "source": [
    "pip install pliers\n",
    "pip install face_recognition"
   ]
  },
  {
   "cell_type": "markdown",
   "id": "ce6ac29f-5739-4d0d-83a5-0b0929d2df9c",
   "metadata": {},
   "source": [
    "This script will read a features.json file that defines the frame sampling rate, the download path, and the save path.\n",
    "For convenience, this .json file should also include the other parameters you may need for extracting semantic or low-level visual features."
   ]
  },
  {
   "cell_type": "markdown",
   "id": "c8674e3a-d120-40a2-86be-fcdb70444054",
   "metadata": {},
   "source": [
    "#### Here's an example of what should go in the .json file:\n",
    "\n",
    "\n",
    "{\"hcpmovies\": {  \n",
    "&emsp;      \"hdim\": 90,                ---> desired horizontal dimension of downsampled image  \n",
    "&emsp;      \"vdim\": 128,               ---> desired vertical dimension of downsampled image  \n",
    "&emsp;      \"fps\": 24,                 ---> frames per second of the movie\n",
    "&emsp;      \"sd\": [0, 90, 180, 270],  ---> spatial directions of gabors (aka motion direction)  \n",
    "&emsp;      \"sf\": [0,4],               ---> spatial frequency range for gabors  \n",
    "&emsp;      \"tf\": [0,4],               ---> temporal frequency range for gabors  \n",
    "&emsp;      \"samplerate\": 1,           ---> the number of frames per second to sample\n",
    "&emsp;      \"downloadpath\": \"/home/jovyan/shared/hcp-7T_Movies/movie/unzip/Post_20140821_version/\", ---> path 2 movies  \n",
    "&emsp;      \"movies\": [\"7T_MOVIE1_CC1_v2.mp4\", ---> list of movie names  \n",
    "&emsp; &emsp; &emsp; &emsp; &emsp;  \"7T_MOVIE2_HO1_v2.mp4\",   \n",
    "&emsp; &emsp; &emsp; &emsp; &emsp;  \"7T_MOVIE3_CC2_v2.mp4\",   \n",
    "&emsp; &emsp; &emsp; &emsp; &emsp;  \"7T_MOVIE4_HO2_v2.mp4],\n",
    "&emsp; &emsp; &emsp; &emsp; &emsp;   \n",
    "&emsp; \"savepath\": \"/home/jovyan/workingdirectory/\" ---> where you want to save features  \n",
    "&emsp; }  \n",
    "}  "
   ]
  },
  {
   "cell_type": "code",
   "execution_count": 2,
   "id": "539c50a8-2049-471c-b54b-30e56a4de05d",
   "metadata": {
    "tags": []
   },
   "outputs": [
    {
     "name": "stderr",
     "output_type": "stream",
     "text": [
      "2023-08-17 19:19:08.529929: I tensorflow/core/platform/cpu_feature_guard.cc:193] This TensorFlow binary is optimized with oneAPI Deep Neural Network Library (oneDNN) to use the following CPU instructions in performance-critical operations:  SSE4.1 SSE4.2 AVX AVX2 FMA\n",
      "To enable them in other operations, rebuild TensorFlow with the appropriate compiler flags.\n"
     ]
    }
   ],
   "source": [
    "import imageio\n",
    "import pandas as pd\n",
    "from matplotlib import pyplot as plt\n",
    "import seaborn as sns\n",
    "import face_recognition\n",
    "import pliers\n",
    "import os\n",
    "from os.path import join\n",
    "\n",
    "from pliers.stimuli import VideoStim\n",
    "from pliers.graph import Graph\n",
    "from pliers.filters import FrameSamplingFilter\n",
    "#from pliers.extractors import (FaceRecognitionFaceLocationsExtractor,\n",
    "                               #FaceRecognitionFaceEncodingsExtractor,\n",
    "                               #MicrosoftAPIFaceExtractor,\n",
    "                               #GoogleVisionAPIFaceExtractor,\n",
    "                               #merge_results)\n",
    "from pliers.extractors import (FaceRecognitionFaceLocationsExtractor,\n",
    "                               FaceRecognitionFaceEncodingsExtractor,\n",
    "                               merge_results)\n",
    "\n",
    "from pliers.converters import VideoToAudioConverter"
   ]
  },
  {
   "cell_type": "markdown",
   "id": "471402a3-bf8b-45b6-b2b1-88bdb7b852a0",
   "metadata": {},
   "source": [
    "In python notebook: "
   ]
  },
  {
   "cell_type": "code",
   "execution_count": 3,
   "id": "97ec9840-b10e-457c-967d-64ce5b1c7d9e",
   "metadata": {
    "tags": []
   },
   "outputs": [
    {
     "data": {
      "text/plain": [
       "<module 'face_recognition' from '/srv/conda/envs/notebook/lib/python3.10/site-packages/face_recognition/__init__.py'>"
      ]
     },
     "execution_count": 3,
     "metadata": {},
     "output_type": "execute_result"
    }
   ],
   "source": [
    "pliers.utils.attempt_to_import('face_recognition')"
   ]
  },
  {
   "cell_type": "code",
   "execution_count": 17,
   "id": "ecea56e1-c63a-4224-ae5f-9875ecaeb77b",
   "metadata": {
    "tags": []
   },
   "outputs": [
    {
     "data": {
      "text/plain": [
       "<module 'face_recognition.api' from '/srv/conda/envs/notebook/lib/python3.10/site-packages/face_recognition/api.py'>"
      ]
     },
     "execution_count": 17,
     "metadata": {},
     "output_type": "execute_result"
    }
   ],
   "source": [
    "face_recognition.api"
   ]
  },
  {
   "cell_type": "code",
   "execution_count": 4,
   "id": "34dbed37-9b78-4100-8520-6b52c60276b7",
   "metadata": {},
   "outputs": [],
   "source": [
    "# Save the video to be analyzed into a variable.\n",
    "video = VideoStim(r'/home/jovyan/hackathon/visual-feature-decoding/extract_features/extract_faces/video_clips/Discussion Stock Footage - Discussion Free Stock Videos - Discussion No Copyright Videos (480p).mp4')\n",
    "#    AHH: This is currently hardcoded to my jupyterhub file path where the video to analyze is saved."
   ]
  },
  {
   "cell_type": "code",
   "execution_count": 5,
   "id": "16835b82-61ca-44ff-a1a6-88c033cc201c",
   "metadata": {
    "tags": []
   },
   "outputs": [],
   "source": [
    "# This is sampling at the rate of 1 Hz (1 frame per sec). \n",
    "#    AHH: This step takes a while, but is quicker the more you downsample. \n",
    "sampler = FrameSamplingFilter(hertz=1)\n",
    "frames = sampler.transform(video)"
   ]
  },
  {
   "cell_type": "code",
   "execution_count": 6,
   "id": "c106d33d-e170-4bb3-ac2f-6d70e29f5b79",
   "metadata": {
    "tags": []
   },
   "outputs": [
    {
     "name": "stderr",
     "output_type": "stream",
     "text": [
      "Stim: 343it [03:20,  1.71it/s]\n"
     ]
    }
   ],
   "source": [
    "# Detect faces in selected frames\n",
    "face_ext = FaceRecognitionFaceLocationsExtractor()\n",
    "# face_ext = FaceRecognitionFaceEncodingsExtractor() # AHH - need to figure out how EncodingsExtractor differs from LocationsExtractor\n",
    "face_result = face_ext.transform(frames)"
   ]
  },
  {
   "cell_type": "code",
   "execution_count": 7,
   "id": "f6a1ab64-96fd-460f-a3fa-6b2b8f0f9eeb",
   "metadata": {
    "tags": []
   },
   "outputs": [
    {
     "data": {
      "text/html": [
       "<div>\n",
       "<style scoped>\n",
       "    .dataframe tbody tr th:only-of-type {\n",
       "        vertical-align: middle;\n",
       "    }\n",
       "\n",
       "    .dataframe tbody tr th {\n",
       "        vertical-align: top;\n",
       "    }\n",
       "\n",
       "    .dataframe thead th {\n",
       "        text-align: right;\n",
       "    }\n",
       "</style>\n",
       "<table border=\"1\" class=\"dataframe\">\n",
       "  <thead>\n",
       "    <tr style=\"text-align: right;\">\n",
       "      <th></th>\n",
       "      <th>order</th>\n",
       "      <th>duration</th>\n",
       "      <th>onset</th>\n",
       "      <th>object_id</th>\n",
       "      <th>face_locations</th>\n",
       "    </tr>\n",
       "  </thead>\n",
       "  <tbody>\n",
       "    <tr>\n",
       "      <th>0</th>\n",
       "      <td>NaN</td>\n",
       "      <td>1.0</td>\n",
       "      <td>16.0</td>\n",
       "      <td>0</td>\n",
       "      <td>(68, 354, 175, 247)</td>\n",
       "    </tr>\n",
       "    <tr>\n",
       "      <th>1</th>\n",
       "      <td>NaN</td>\n",
       "      <td>1.0</td>\n",
       "      <td>16.0</td>\n",
       "      <td>1</td>\n",
       "      <td>(92, 581, 199, 474)</td>\n",
       "    </tr>\n",
       "    <tr>\n",
       "      <th>0</th>\n",
       "      <td>NaN</td>\n",
       "      <td>1.0</td>\n",
       "      <td>17.0</td>\n",
       "      <td>0</td>\n",
       "      <td>(76, 344, 166, 255)</td>\n",
       "    </tr>\n",
       "    <tr>\n",
       "      <th>1</th>\n",
       "      <td>NaN</td>\n",
       "      <td>1.0</td>\n",
       "      <td>17.0</td>\n",
       "      <td>1</td>\n",
       "      <td>(92, 581, 199, 474)</td>\n",
       "    </tr>\n",
       "    <tr>\n",
       "      <th>0</th>\n",
       "      <td>NaN</td>\n",
       "      <td>1.0</td>\n",
       "      <td>18.0</td>\n",
       "      <td>0</td>\n",
       "      <td>(86, 335, 176, 245)</td>\n",
       "    </tr>\n",
       "    <tr>\n",
       "      <th>1</th>\n",
       "      <td>NaN</td>\n",
       "      <td>1.0</td>\n",
       "      <td>18.0</td>\n",
       "      <td>1</td>\n",
       "      <td>(92, 581, 199, 474)</td>\n",
       "    </tr>\n",
       "    <tr>\n",
       "      <th>0</th>\n",
       "      <td>NaN</td>\n",
       "      <td>1.0</td>\n",
       "      <td>19.0</td>\n",
       "      <td>0</td>\n",
       "      <td>(86, 325, 176, 235)</td>\n",
       "    </tr>\n",
       "    <tr>\n",
       "      <th>1</th>\n",
       "      <td>NaN</td>\n",
       "      <td>1.0</td>\n",
       "      <td>19.0</td>\n",
       "      <td>1</td>\n",
       "      <td>(80, 593, 187, 485)</td>\n",
       "    </tr>\n",
       "    <tr>\n",
       "      <th>0</th>\n",
       "      <td>NaN</td>\n",
       "      <td>1.0</td>\n",
       "      <td>20.0</td>\n",
       "      <td>0</td>\n",
       "      <td>(56, 629, 163, 521)</td>\n",
       "    </tr>\n",
       "    <tr>\n",
       "      <th>1</th>\n",
       "      <td>NaN</td>\n",
       "      <td>1.0</td>\n",
       "      <td>20.0</td>\n",
       "      <td>1</td>\n",
       "      <td>(86, 335, 176, 245)</td>\n",
       "    </tr>\n",
       "  </tbody>\n",
       "</table>\n",
       "</div>"
      ],
      "text/plain": [
       "   order  duration  onset  object_id       face_locations\n",
       "0    NaN       1.0   16.0          0  (68, 354, 175, 247)\n",
       "1    NaN       1.0   16.0          1  (92, 581, 199, 474)\n",
       "0    NaN       1.0   17.0          0  (76, 344, 166, 255)\n",
       "1    NaN       1.0   17.0          1  (92, 581, 199, 474)\n",
       "0    NaN       1.0   18.0          0  (86, 335, 176, 245)\n",
       "1    NaN       1.0   18.0          1  (92, 581, 199, 474)\n",
       "0    NaN       1.0   19.0          0  (86, 325, 176, 235)\n",
       "1    NaN       1.0   19.0          1  (80, 593, 187, 485)\n",
       "0    NaN       1.0   20.0          0  (56, 629, 163, 521)\n",
       "1    NaN       1.0   20.0          1  (86, 335, 176, 245)"
      ]
     },
     "execution_count": 7,
     "metadata": {},
     "output_type": "execute_result"
    }
   ],
   "source": [
    "# AHH: Let's just look at the results...\n",
    "result_df = [f.to_df() for f in face_result]\n",
    "\n",
    "result_df = pd.concat(result_df)\n",
    "\n",
    "result_df.head(10)\n",
    "\n",
    "# This df contains sample duration, onset of sample, id of detected face, and coordinates for the bounding box of a detected face, in pixels"
   ]
  },
  {
   "cell_type": "code",
   "execution_count": 8,
   "id": "86a55e34-402e-4fdc-80e3-535c6e6074d6",
   "metadata": {
    "tags": []
   },
   "outputs": [],
   "source": [
    "import numpy as np\n",
    "# Set the range of time over which to plot extracted faces.\n",
    "#     AHH: Again, this needs to be manually set currently. Maybe set the range automatically based on the number of frames given the sampling Hz...?\n",
    "#     Total s = number of frames / Hz\n",
    "time = np.arange(0,342,0.5)"
   ]
  },
  {
   "cell_type": "code",
   "execution_count": 9,
   "id": "089446ca-64a6-42d7-abc5-5d618717985e",
   "metadata": {
    "tags": []
   },
   "outputs": [
    {
     "data": {
      "text/plain": [
       "[<matplotlib.lines.Line2D at 0x7f2204254580>]"
      ]
     },
     "execution_count": 9,
     "metadata": {},
     "output_type": "execute_result"
    },
    {
     "data": {
      "image/png": "[encoded data removed]",
      "text/plain": [
       "<Figure size 640x480 with 1 Axes>"
      ]
     },
     "metadata": {},
     "output_type": "display_data"
    }
   ],
   "source": [
    "# AHH: I'm pretty sure all this is doing is plotting whether a face is present or not at each sampled frame.\n",
    "# Plotting location or whatever face_encoding is tracking could be more interesting!\n",
    "plt.plot(time, [t in result_df[\"onset\"].values for t in time])"
   ]
  },
  {
   "cell_type": "code",
   "execution_count": null,
   "id": "975dc957-92b5-44c8-8157-e0fb38121008",
   "metadata": {},
   "outputs": [],
   "source": []
  }
 ],
 "metadata": {
  "kernelspec": {
   "display_name": "Python 3 (ipykernel)",
   "language": "python",
   "name": "python3"
  },
  "language_info": {
   "codemirror_mode": {
    "name": "ipython",
    "version": 3
   },
   "file_extension": ".py",
   "mimetype": "text/x-python",
   "name": "python",
   "nbconvert_exporter": "python",
   "pygments_lexer": "ipython3",
   "version": "3.10.11"
  }
 },
 "nbformat": 4,
 "nbformat_minor": 5
}
