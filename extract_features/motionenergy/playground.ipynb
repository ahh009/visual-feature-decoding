{
 "cells": [
  {
   "cell_type": "markdown",
   "id": "ddf1a758-be3f-4759-a1d8-af09b4e49c69",
   "metadata": {},
   "source": [
    "### The premise of this notebook is to archetype a script for extracting motion energy features from a movie using Pymoten."
   ]
  },
  {
   "cell_type": "markdown",
   "id": "1df4cd1d-0c26-497f-928f-4d42ecd4b7a7",
   "metadata": {},
   "source": [
    "The steps can be as follows:\n",
    "1. "
   ]
  },
  {
   "cell_type": "markdown",
   "id": "37b73af3-d3cf-4ab3-ac26-b2c9d0b34b5b",
   "metadata": {},
   "source": [
    "import stuff"
   ]
  },
  {
   "cell_type": "code",
   "execution_count": 1,
   "id": "e0633c73-f2e2-4c45-ac15-ba36dbf20e8a",
   "metadata": {
    "tags": []
   },
   "outputs": [],
   "source": [
    "import numpy as np"
   ]
  },
  {
   "cell_type": "markdown",
   "id": "283b4626-f8fa-4c26-83b5-ff3300415fd5",
   "metadata": {},
   "source": [
    "data-showcase folder/ 000-paths-intro.ipynb"
   ]
  },
  {
   "cell_type": "code",
   "execution_count": null,
   "id": "5d1256cc-71e8-4b9c-9d62-43a8a24d8f8f",
   "metadata": {},
   "outputs": [],
   "source": [
    "shared/hcp-7T_Movies/movie/unzip/Post_20140821_version/7T_MOVIE1_CC1_v2.mp4"
   ]
  },
  {
   "cell_type": "code",
   "execution_count": null,
   "id": "51ca777f-d32f-40f7-a41e-2c120a2f7132",
   "metadata": {},
   "outputs": [],
   "source": []
  }
 ],
 "metadata": {
  "kernelspec": {
   "display_name": "Python 3 (ipykernel)",
   "language": "python",
   "name": "python3"
  },
  "language_info": {
   "codemirror_mode": {
    "name": "ipython",
    "version": 3
   },
   "file_extension": ".py",
   "mimetype": "text/x-python",
   "name": "python",
   "nbconvert_exporter": "python",
   "pygments_lexer": "ipython3",
   "version": "3.10.11"
  }
 },
 "nbformat": 4,
 "nbformat_minor": 5
}
