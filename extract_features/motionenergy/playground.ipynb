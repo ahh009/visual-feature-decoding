{
 "cells": [
  {
   "cell_type": "markdown",
   "id": "ddf1a758-be3f-4759-a1d8-af09b4e49c69",
   "metadata": {
    "tags": []
   },
   "source": [
    "### The premise of this notebook is to archetype a script for extracting motion energy features from a movie using Pymoten."
   ]
  },
  {
   "cell_type": "markdown",
   "id": "1df4cd1d-0c26-497f-928f-4d42ecd4b7a7",
   "metadata": {},
   "source": [
    "Information:\n",
    "From [Finn's paper](https://www.sciencedirect.com/science/article/pii/S1053811921002408)  \n",
    "- MOVIE runs 1–4 were 921, 918, 915, and 901 TRs, respectively.  \n",
    "---------- frames / fps / total time / width / height  \n",
    "movie 1  22104 24.0 921.0 1024 720  \n",
    "movie 2  22032 24.0 918.0 1024 720  \n",
    "movie 3  21960 24.0 915.0 1024 720  \n",
    "movie 4  21624 24.0 901.0 1024 720  \n",
    "\n",
    "\n",
    "downsampled movies by 8, (128.0, 90.0)\n",
    "\n",
    "The steps can be as follows:  \n",
    "make conda environment \n",
    "1. Movies to png to luminance\n",
    "2. Create pyramid\n",
    "3. Push luminance through pyramid\n",
    "4. Save features\n",
    "5. Clean features\n"
   ]
  },
  {
   "cell_type": "markdown",
   "id": "37b73af3-d3cf-4ab3-ac26-b2c9d0b34b5b",
   "metadata": {},
   "source": [
    "import stuff"
   ]
  },
  {
   "cell_type": "code",
   "execution_count": 6,
   "id": "e0633c73-f2e2-4c45-ac15-ba36dbf20e8a",
   "metadata": {
    "tags": []
   },
   "outputs": [],
   "source": [
    "import numpy as np\n",
    "import matplotlib.pyplot as plt\n",
    "import os\n",
    "import json\n",
    "import subprocess\n",
    "from skimage import io\n",
    "from skimage.transform import resize\n",
    "from skimage import img_as_ubyte\n",
    "import imageio\n",
    "import numpy as np\n",
    "import skvideo \n",
    "skvideo.setFFmpegPath(\"/srv/conda/envs/lowlevel/bin\")\n",
    "import skvideo.io \n",
    "from moviepy.editor import VideoFileClip\n",
    "from skimage.transform import resize\n",
    "from tqdm import tqdm\n",
    "import moten\n",
    "import PIL.Image as pil_image\n"
   ]
  },
  {
   "cell_type": "code",
   "execution_count": null,
   "id": "2ae6e9a7-7da9-4ee8-906c-41863a97d5b8",
   "metadata": {},
   "outputs": [],
   "source": []
  },
  {
   "cell_type": "code",
   "execution_count": 3,
   "id": "1d60cf4d-f26c-4389-ba30-9284295b9aec",
   "metadata": {
    "tags": []
   },
   "outputs": [],
   "source": [
    "def rgb_to_gray_luminosity(rgb_image):\n",
    "    red_weight = 0.2989\n",
    "    green_weight = 0.5870\n",
    "    blue_weight = 0.1140\n",
    "    \n",
    "    gray_image = np.dot(rgb_image[..., :3], [red_weight, green_weight, blue_weight])\n",
    "    return gray_image.astype(np.uint8)"
   ]
  },
  {
   "cell_type": "code",
   "execution_count": 4,
   "id": "35966d74-5dda-47db-b821-b856992ef9b0",
   "metadata": {
    "tags": []
   },
   "outputs": [],
   "source": [
    "def load_resize_image(img, hdim, vdim):\n",
    "    # img = io.imread(image)\n",
    "    img = resize(img, (hdim, vdim))\n",
    "    img = img_as_ubyte(img)\n",
    "    return img"
   ]
  },
  {
   "cell_type": "code",
   "execution_count": 5,
   "id": "8ad90a40-8331-4773-9151-d6b27c2e7a52",
   "metadata": {
    "tags": []
   },
   "outputs": [],
   "source": [
    "def movie_to_gray_array(json_filepath):\n",
    "    #open feature json file\n",
    "    with open(json_filepath) as f:\n",
    "        data = json.load(f)\n",
    "\n",
    "    ## isolate all info for each stimuli\n",
    "    for stimuli, stimuli_data in data.items():\n",
    "        hdim = stimuli_data['hdim']\n",
    "        vdim = stimuli_data['vdim']\n",
    "        downloadpath = stimuli_data['downloadpath']\n",
    "        movies = stimuli_data['movies']\n",
    "        savepath = stimuli_data['savepath']\n",
    "        for movie in movies:\n",
    "            moviepath = os.path.join(downloadpath, movie)\n",
    "\n",
    "            # Define the output directory where the .png images will be saved.\n",
    "            movienoextension = movie[:len(movie)-4]\n",
    "            output_directory = f'{savepath} + {movienoextension}/'\n",
    "            if not os.path.exists(output_directory):\n",
    "                os.makedirs(output_directory)\n",
    "                \n",
    "            # Open the video file using VideoFileClip\n",
    "            video = VideoFileClip(moviepath)\n",
    "            width = int(video.size[0]/8)\n",
    "            height = int(video.size[1]/8)\n",
    "            total_frames = (int(video.fps * video.duration))\n",
    "            gray_image_data = np.empty((height, width, total_frames), dtype=np.uint8)\n",
    "            pbar = tqdm(total=total_frames, desc=movie)\n",
    "\n",
    "            counter = 0\n",
    "            for idx, frame in enumerate(video.iter_frames(fps=video.fps, dtype='uint8')):\n",
    "                #downsample\n",
    "                #print(frame.shape, hdim, vdim)\n",
    "                img = load_resize_image(frame, hdim, vdim)\n",
    "                #print(img.shape)\n",
    "                gray_image_data[:, :, idx] = rgb_to_gray_luminosity(img)\n",
    "                pbar.update(1)\n",
    "                counter += 1\n",
    "                if counter % 1000 == 0:\n",
    "                     break\n",
    "\n",
    "            pbar.close()\n",
    "            np.savez(savepath + movienoextension + '_gray.npz', movie=gray_image_data)\n",
    "            return gray_image_data\n",
    "        \n",
    "            # Close the video file\n",
    "            video.reader.close()\n"
   ]
  },
  {
   "cell_type": "code",
   "execution_count": null,
   "id": "01243ce2-7e4f-4fd5-bc21-8b8c8fa6beef",
   "metadata": {},
   "outputs": [],
   "source": [
    "#code to extract hdim, vdim, fps, etc"
   ]
  },
  {
   "cell_type": "code",
   "execution_count": 6,
   "id": "bfc2d448-b119-440f-82ee-c7638eb3d399",
   "metadata": {
    "tags": []
   },
   "outputs": [
    {
     "name": "stderr",
     "output_type": "stream",
     "text": [
      "7T_MOVIE1_CC1_v2.mp4:   0%|          | 16/22104 [00:03<1:25:55,  4.28it/s]"
     ]
    },
    {
     "ename": "KeyboardInterrupt",
     "evalue": "",
     "output_type": "error",
     "traceback": [
      "\u001b[0;31m---------------------------------------------------------------------------\u001b[0m",
      "\u001b[0;31mKeyboardInterrupt\u001b[0m                         Traceback (most recent call last)",
      "Cell \u001b[0;32mIn[6], line 1\u001b[0m\n\u001b[0;32m----> 1\u001b[0m \u001b[43mmovie_to_gray_array\u001b[49m\u001b[43m(\u001b[49m\u001b[38;5;124;43m'\u001b[39;49m\u001b[38;5;124;43m/home/jovyan/workingdirectory/feature.json\u001b[39;49m\u001b[38;5;124;43m'\u001b[39;49m\u001b[43m)\u001b[49m\n",
      "Cell \u001b[0;32mIn[5], line 34\u001b[0m, in \u001b[0;36mmovie_to_gray_array\u001b[0;34m(json_filepath)\u001b[0m\n\u001b[1;32m     30\u001b[0m counter \u001b[38;5;241m=\u001b[39m \u001b[38;5;241m0\u001b[39m\n\u001b[1;32m     31\u001b[0m \u001b[38;5;28;01mfor\u001b[39;00m idx, frame \u001b[38;5;129;01min\u001b[39;00m \u001b[38;5;28menumerate\u001b[39m(video\u001b[38;5;241m.\u001b[39miter_frames(fps\u001b[38;5;241m=\u001b[39mvideo\u001b[38;5;241m.\u001b[39mfps, dtype\u001b[38;5;241m=\u001b[39m\u001b[38;5;124m'\u001b[39m\u001b[38;5;124muint8\u001b[39m\u001b[38;5;124m'\u001b[39m)):\n\u001b[1;32m     32\u001b[0m     \u001b[38;5;66;03m#downsample\u001b[39;00m\n\u001b[1;32m     33\u001b[0m     \u001b[38;5;66;03m#print(frame.shape, hdim, vdim)\u001b[39;00m\n\u001b[0;32m---> 34\u001b[0m     img \u001b[38;5;241m=\u001b[39m \u001b[43mload_resize_image\u001b[49m\u001b[43m(\u001b[49m\u001b[43mframe\u001b[49m\u001b[43m,\u001b[49m\u001b[43m \u001b[49m\u001b[43mhdim\u001b[49m\u001b[43m,\u001b[49m\u001b[43m \u001b[49m\u001b[43mvdim\u001b[49m\u001b[43m)\u001b[49m\n\u001b[1;32m     35\u001b[0m     \u001b[38;5;66;03m#print(img.shape)\u001b[39;00m\n\u001b[1;32m     36\u001b[0m     gray_image_data[:, :, idx] \u001b[38;5;241m=\u001b[39m rgb_to_gray_luminosity(img)\n",
      "Cell \u001b[0;32mIn[4], line 3\u001b[0m, in \u001b[0;36mload_resize_image\u001b[0;34m(img, hdim, vdim)\u001b[0m\n\u001b[1;32m      1\u001b[0m \u001b[38;5;28;01mdef\u001b[39;00m \u001b[38;5;21mload_resize_image\u001b[39m(img, hdim, vdim):\n\u001b[1;32m      2\u001b[0m     \u001b[38;5;66;03m# img = io.imread(image)\u001b[39;00m\n\u001b[0;32m----> 3\u001b[0m     img \u001b[38;5;241m=\u001b[39m \u001b[43mresize\u001b[49m\u001b[43m(\u001b[49m\u001b[43mimg\u001b[49m\u001b[43m,\u001b[49m\u001b[43m \u001b[49m\u001b[43m(\u001b[49m\u001b[43mhdim\u001b[49m\u001b[43m,\u001b[49m\u001b[43m \u001b[49m\u001b[43mvdim\u001b[49m\u001b[43m)\u001b[49m\u001b[43m)\u001b[49m\n\u001b[1;32m      4\u001b[0m     img \u001b[38;5;241m=\u001b[39m img_as_ubyte(img)\n\u001b[1;32m      5\u001b[0m     \u001b[38;5;28;01mreturn\u001b[39;00m img\n",
      "File \u001b[0;32m/srv/conda/envs/lowlevel/lib/python3.8/site-packages/skimage/transform/_warps.py:179\u001b[0m, in \u001b[0;36mresize\u001b[0;34m(image, output_shape, order, mode, cval, clip, preserve_range, anti_aliasing, anti_aliasing_sigma)\u001b[0m\n\u001b[1;32m    176\u001b[0m         \u001b[38;5;28;01melif\u001b[39;00m np\u001b[38;5;241m.\u001b[39many((anti_aliasing_sigma \u001b[38;5;241m>\u001b[39m \u001b[38;5;241m0\u001b[39m) \u001b[38;5;241m&\u001b[39m (factors \u001b[38;5;241m<\u001b[39m\u001b[38;5;241m=\u001b[39m \u001b[38;5;241m1\u001b[39m)):\n\u001b[1;32m    177\u001b[0m             warn(\u001b[38;5;124m\"\u001b[39m\u001b[38;5;124mAnti-aliasing standard deviation greater than zero but \u001b[39m\u001b[38;5;124m\"\u001b[39m\n\u001b[1;32m    178\u001b[0m                  \u001b[38;5;124m\"\u001b[39m\u001b[38;5;124mnot down-sampling along all axes\u001b[39m\u001b[38;5;124m\"\u001b[39m)\n\u001b[0;32m--> 179\u001b[0m     filtered \u001b[38;5;241m=\u001b[39m \u001b[43mndi\u001b[49m\u001b[38;5;241;43m.\u001b[39;49m\u001b[43mgaussian_filter\u001b[49m\u001b[43m(\u001b[49m\u001b[43mimage\u001b[49m\u001b[43m,\u001b[49m\u001b[43m \u001b[49m\u001b[43manti_aliasing_sigma\u001b[49m\u001b[43m,\u001b[49m\n\u001b[1;32m    180\u001b[0m \u001b[43m                                   \u001b[49m\u001b[43mcval\u001b[49m\u001b[38;5;241;43m=\u001b[39;49m\u001b[43mcval\u001b[49m\u001b[43m,\u001b[49m\u001b[43m \u001b[49m\u001b[43mmode\u001b[49m\u001b[38;5;241;43m=\u001b[39;49m\u001b[43mndi_mode\u001b[49m\u001b[43m)\u001b[49m\n\u001b[1;32m    181\u001b[0m \u001b[38;5;28;01melse\u001b[39;00m:\n\u001b[1;32m    182\u001b[0m     filtered \u001b[38;5;241m=\u001b[39m image\n",
      "File \u001b[0;32m/srv/conda/envs/lowlevel/lib/python3.8/site-packages/scipy/ndimage/_filters.py:368\u001b[0m, in \u001b[0;36mgaussian_filter\u001b[0;34m(input, sigma, order, output, mode, cval, truncate, radius)\u001b[0m\n\u001b[1;32m    366\u001b[0m \u001b[38;5;28;01mif\u001b[39;00m \u001b[38;5;28mlen\u001b[39m(axes) \u001b[38;5;241m>\u001b[39m \u001b[38;5;241m0\u001b[39m:\n\u001b[1;32m    367\u001b[0m     \u001b[38;5;28;01mfor\u001b[39;00m axis, sigma, order, mode, radius \u001b[38;5;129;01min\u001b[39;00m axes:\n\u001b[0;32m--> 368\u001b[0m         \u001b[43mgaussian_filter1d\u001b[49m\u001b[43m(\u001b[49m\u001b[38;5;28;43minput\u001b[39;49m\u001b[43m,\u001b[49m\u001b[43m \u001b[49m\u001b[43msigma\u001b[49m\u001b[43m,\u001b[49m\u001b[43m \u001b[49m\u001b[43maxis\u001b[49m\u001b[43m,\u001b[49m\u001b[43m \u001b[49m\u001b[43morder\u001b[49m\u001b[43m,\u001b[49m\u001b[43m \u001b[49m\u001b[43moutput\u001b[49m\u001b[43m,\u001b[49m\n\u001b[1;32m    369\u001b[0m \u001b[43m                          \u001b[49m\u001b[43mmode\u001b[49m\u001b[43m,\u001b[49m\u001b[43m \u001b[49m\u001b[43mcval\u001b[49m\u001b[43m,\u001b[49m\u001b[43m \u001b[49m\u001b[43mtruncate\u001b[49m\u001b[43m,\u001b[49m\u001b[43m \u001b[49m\u001b[43mradius\u001b[49m\u001b[38;5;241;43m=\u001b[39;49m\u001b[43mradius\u001b[49m\u001b[43m)\u001b[49m\n\u001b[1;32m    370\u001b[0m         \u001b[38;5;28minput\u001b[39m \u001b[38;5;241m=\u001b[39m output\n\u001b[1;32m    371\u001b[0m \u001b[38;5;28;01melse\u001b[39;00m:\n",
      "File \u001b[0;32m/srv/conda/envs/lowlevel/lib/python3.8/site-packages/scipy/ndimage/_filters.py:276\u001b[0m, in \u001b[0;36mgaussian_filter1d\u001b[0;34m(input, sigma, axis, order, output, mode, cval, truncate, radius)\u001b[0m\n\u001b[1;32m    274\u001b[0m \u001b[38;5;66;03m# Since we are calling correlate, not convolve, revert the kernel\u001b[39;00m\n\u001b[1;32m    275\u001b[0m weights \u001b[38;5;241m=\u001b[39m _gaussian_kernel1d(sigma, order, lw)[::\u001b[38;5;241m-\u001b[39m\u001b[38;5;241m1\u001b[39m]\n\u001b[0;32m--> 276\u001b[0m \u001b[38;5;28;01mreturn\u001b[39;00m \u001b[43mcorrelate1d\u001b[49m\u001b[43m(\u001b[49m\u001b[38;5;28;43minput\u001b[39;49m\u001b[43m,\u001b[49m\u001b[43m \u001b[49m\u001b[43mweights\u001b[49m\u001b[43m,\u001b[49m\u001b[43m \u001b[49m\u001b[43maxis\u001b[49m\u001b[43m,\u001b[49m\u001b[43m \u001b[49m\u001b[43moutput\u001b[49m\u001b[43m,\u001b[49m\u001b[43m \u001b[49m\u001b[43mmode\u001b[49m\u001b[43m,\u001b[49m\u001b[43m \u001b[49m\u001b[43mcval\u001b[49m\u001b[43m,\u001b[49m\u001b[43m \u001b[49m\u001b[38;5;241;43m0\u001b[39;49m\u001b[43m)\u001b[49m\n",
      "File \u001b[0;32m/srv/conda/envs/lowlevel/lib/python3.8/site-packages/scipy/ndimage/_filters.py:134\u001b[0m, in \u001b[0;36mcorrelate1d\u001b[0;34m(input, weights, axis, output, mode, cval, origin)\u001b[0m\n\u001b[1;32m    130\u001b[0m     \u001b[38;5;28;01mraise\u001b[39;00m \u001b[38;5;167;01mValueError\u001b[39;00m(\u001b[38;5;124m'\u001b[39m\u001b[38;5;124mInvalid origin; origin must satisfy \u001b[39m\u001b[38;5;124m'\u001b[39m\n\u001b[1;32m    131\u001b[0m                      \u001b[38;5;124m'\u001b[39m\u001b[38;5;124m-(len(weights) // 2) <= origin <= \u001b[39m\u001b[38;5;124m'\u001b[39m\n\u001b[1;32m    132\u001b[0m                      \u001b[38;5;124m'\u001b[39m\u001b[38;5;124m(len(weights)-1) // 2\u001b[39m\u001b[38;5;124m'\u001b[39m)\n\u001b[1;32m    133\u001b[0m mode \u001b[38;5;241m=\u001b[39m _ni_support\u001b[38;5;241m.\u001b[39m_extend_mode_to_code(mode)\n\u001b[0;32m--> 134\u001b[0m \u001b[43m_nd_image\u001b[49m\u001b[38;5;241;43m.\u001b[39;49m\u001b[43mcorrelate1d\u001b[49m\u001b[43m(\u001b[49m\u001b[38;5;28;43minput\u001b[39;49m\u001b[43m,\u001b[49m\u001b[43m \u001b[49m\u001b[43mweights\u001b[49m\u001b[43m,\u001b[49m\u001b[43m \u001b[49m\u001b[43maxis\u001b[49m\u001b[43m,\u001b[49m\u001b[43m \u001b[49m\u001b[43moutput\u001b[49m\u001b[43m,\u001b[49m\u001b[43m \u001b[49m\u001b[43mmode\u001b[49m\u001b[43m,\u001b[49m\u001b[43m \u001b[49m\u001b[43mcval\u001b[49m\u001b[43m,\u001b[49m\n\u001b[1;32m    135\u001b[0m \u001b[43m                      \u001b[49m\u001b[43morigin\u001b[49m\u001b[43m)\u001b[49m\n\u001b[1;32m    136\u001b[0m \u001b[38;5;28;01mreturn\u001b[39;00m output\n",
      "\u001b[0;31mKeyboardInterrupt\u001b[0m: "
     ]
    }
   ],
   "source": [
    "movie_to_gray_array('/home/jovyan/workingdirectory/feature.json')"
   ]
  },
  {
   "cell_type": "markdown",
   "id": "45443f27-1212-4569-a892-e0b3e19293ff",
   "metadata": {},
   "source": [
    "let's just save out 1000 frames to build the pyramid for"
   ]
  },
  {
   "cell_type": "code",
   "execution_count": 18,
   "id": "33f86c0e-f5c1-4f6d-b090-e9dcb612d59f",
   "metadata": {
    "tags": []
   },
   "outputs": [],
   "source": [
    "def push_thru_pyramid(json_filepath):\n",
    "    #open feature json file\n",
    "    with open(json_filepath) as f:\n",
    "        data = json.load(f)\n",
    "\n",
    "    # load in json data\n",
    "    for stimuli, stimuli_data in data.items():\n",
    "            hdim = stimuli_data['hdim']\n",
    "            vdim = stimuli_data['vdim']\n",
    "            fps = stimuli_data['fps']\n",
    "            tf = stimuli_data['tf']\n",
    "            sf = stimuli_data['sf']\n",
    "            ori = stimuli_data['ori']\n",
    "            downloadpath = stimuli_data['downloadpath']\n",
    "            movies = stimuli_data['movies']\n",
    "            savepath = stimuli_data['savepath']\n",
    "            \n",
    "            pyramid = moten.pyramids.MotionEnergyPyramid(stimulus_vhsize=(hdim, vdim), \n",
    "                                       stimulus_fps=fps, \n",
    "                                       temporal_frequencies=tf, \n",
    "                                       spatial_frequencies=sf, \n",
    "                                       spatial_directions=ori)\n",
    "            \n",
    "            for movie in movies:\n",
    "                movienoextension = movie[:len(movie)-4]\n",
    "                data = np.load(savepath + movienoextension + \".mp4_gray.npz\", allow_pickle=True)['movie']\n",
    "                #data expected to be nimages, vdim, hdim\n",
    "                reorganized_array = np.transpose(data, (2, 0, 1))\n",
    "                features = pyramid.project_stimulus(reorganized_array)\n",
    "                np.savez(savepath + movienoextension + \"_features.npz\", features=features)\n",
    "                \n",
    "                \n",
    "    \n",
    "    \n",
    "    "
   ]
  },
  {
   "cell_type": "code",
   "execution_count": 19,
   "id": "d7a4dd7e-ef0b-4430-9f64-89c1381b6e25",
   "metadata": {
    "tags": []
   },
   "outputs": [
    {
     "name": "stderr",
     "output_type": "stream",
     "text": [
      "\n",
      "project_stimulus:   0%|          | 0/8 [00:00<?, ?it/s]\u001b[A\n",
      "project_stimulus:  12%|█▎        | 1/8 [00:00<00:04,  1.64it/s]\u001b[A\n",
      "project_stimulus:  25%|██▌       | 2/8 [00:01<00:03,  1.61it/s]\u001b[A\n",
      "project_stimulus:  38%|███▊      | 3/8 [00:01<00:03,  1.59it/s]\u001b[A\n",
      "project_stimulus:  50%|█████     | 4/8 [00:02<00:02,  1.61it/s]\u001b[A\n",
      "project_stimulus:  62%|██████▎   | 5/8 [00:03<00:01,  1.59it/s]\u001b[A\n",
      "project_stimulus:  75%|███████▌  | 6/8 [00:03<00:01,  1.60it/s]\u001b[A\n",
      "project_stimulus:  88%|████████▊ | 7/8 [00:04<00:00,  1.61it/s]\u001b[A\n",
      "project_stimulus: 100%|██████████| 8/8 [00:05<00:00,  1.57it/s]\u001b[A\n",
      "\n",
      "project_stimulus:   0%|          | 0/8 [00:00<?, ?it/s]\u001b[A\n",
      "project_stimulus:  12%|█▎        | 1/8 [00:00<00:04,  1.58it/s]\u001b[A\n",
      "project_stimulus:  25%|██▌       | 2/8 [00:01<00:03,  1.61it/s]\u001b[A\n",
      "project_stimulus:  38%|███▊      | 3/8 [00:01<00:03,  1.61it/s]\u001b[A\n",
      "project_stimulus:  50%|█████     | 4/8 [00:02<00:02,  1.59it/s]\u001b[A\n",
      "project_stimulus:  62%|██████▎   | 5/8 [00:03<00:01,  1.58it/s]\u001b[A\n",
      "project_stimulus:  75%|███████▌  | 6/8 [00:03<00:01,  1.56it/s]\u001b[A\n",
      "project_stimulus:  88%|████████▊ | 7/8 [00:04<00:00,  1.59it/s]\u001b[A\n",
      "project_stimulus: 100%|██████████| 8/8 [00:05<00:00,  1.59it/s]\u001b[A\n"
     ]
    },
    {
     "ename": "FileNotFoundError",
     "evalue": "[Errno 2] No such file or directory: '/home/jovyan/workingdirectory/7T_MOVIE3_CC2_v2.mp4_gray.npz'",
     "output_type": "error",
     "traceback": [
      "\u001b[0;31m---------------------------------------------------------------------------\u001b[0m",
      "\u001b[0;31mFileNotFoundError\u001b[0m                         Traceback (most recent call last)",
      "Cell \u001b[0;32mIn[19], line 1\u001b[0m\n\u001b[0;32m----> 1\u001b[0m \u001b[43mpush_thru_pyramid\u001b[49m\u001b[43m(\u001b[49m\u001b[38;5;124;43m'\u001b[39;49m\u001b[38;5;124;43m/home/jovyan/workingdirectory/feature.json\u001b[39;49m\u001b[38;5;124;43m'\u001b[39;49m\u001b[43m)\u001b[49m\n",
      "Cell \u001b[0;32mIn[18], line 26\u001b[0m, in \u001b[0;36mpush_thru_pyramid\u001b[0;34m(json_filepath)\u001b[0m\n\u001b[1;32m     24\u001b[0m \u001b[38;5;28;01mfor\u001b[39;00m movie \u001b[38;5;129;01min\u001b[39;00m movies:\n\u001b[1;32m     25\u001b[0m     movienoextension \u001b[38;5;241m=\u001b[39m movie[:\u001b[38;5;28mlen\u001b[39m(movie)\u001b[38;5;241m-\u001b[39m\u001b[38;5;241m4\u001b[39m]\n\u001b[0;32m---> 26\u001b[0m     data \u001b[38;5;241m=\u001b[39m \u001b[43mnp\u001b[49m\u001b[38;5;241;43m.\u001b[39;49m\u001b[43mload\u001b[49m\u001b[43m(\u001b[49m\u001b[43msavepath\u001b[49m\u001b[43m \u001b[49m\u001b[38;5;241;43m+\u001b[39;49m\u001b[43m \u001b[49m\u001b[43mmovienoextension\u001b[49m\u001b[43m \u001b[49m\u001b[38;5;241;43m+\u001b[39;49m\u001b[43m \u001b[49m\u001b[38;5;124;43m\"\u001b[39;49m\u001b[38;5;124;43m.mp4_gray.npz\u001b[39;49m\u001b[38;5;124;43m\"\u001b[39;49m\u001b[43m,\u001b[49m\u001b[43m \u001b[49m\u001b[43mallow_pickle\u001b[49m\u001b[38;5;241;43m=\u001b[39;49m\u001b[38;5;28;43;01mTrue\u001b[39;49;00m\u001b[43m)\u001b[49m[\u001b[38;5;124m'\u001b[39m\u001b[38;5;124mmovie\u001b[39m\u001b[38;5;124m'\u001b[39m]\n\u001b[1;32m     27\u001b[0m     \u001b[38;5;66;03m#data expected to be nimages, vdim, hdim\u001b[39;00m\n\u001b[1;32m     28\u001b[0m     reorganized_array \u001b[38;5;241m=\u001b[39m np\u001b[38;5;241m.\u001b[39mtranspose(data, (\u001b[38;5;241m2\u001b[39m, \u001b[38;5;241m0\u001b[39m, \u001b[38;5;241m1\u001b[39m))\n",
      "File \u001b[0;32m/srv/conda/envs/lowlevel/lib/python3.8/site-packages/numpy/lib/npyio.py:417\u001b[0m, in \u001b[0;36mload\u001b[0;34m(file, mmap_mode, allow_pickle, fix_imports, encoding)\u001b[0m\n\u001b[1;32m    415\u001b[0m     own_fid \u001b[38;5;241m=\u001b[39m \u001b[38;5;28;01mFalse\u001b[39;00m\n\u001b[1;32m    416\u001b[0m \u001b[38;5;28;01melse\u001b[39;00m:\n\u001b[0;32m--> 417\u001b[0m     fid \u001b[38;5;241m=\u001b[39m stack\u001b[38;5;241m.\u001b[39menter_context(\u001b[38;5;28;43mopen\u001b[39;49m\u001b[43m(\u001b[49m\u001b[43mos_fspath\u001b[49m\u001b[43m(\u001b[49m\u001b[43mfile\u001b[49m\u001b[43m)\u001b[49m\u001b[43m,\u001b[49m\u001b[43m \u001b[49m\u001b[38;5;124;43m\"\u001b[39;49m\u001b[38;5;124;43mrb\u001b[39;49m\u001b[38;5;124;43m\"\u001b[39;49m\u001b[43m)\u001b[49m)\n\u001b[1;32m    418\u001b[0m     own_fid \u001b[38;5;241m=\u001b[39m \u001b[38;5;28;01mTrue\u001b[39;00m\n\u001b[1;32m    420\u001b[0m \u001b[38;5;66;03m# Code to distinguish from NumPy binary files and pickles.\u001b[39;00m\n",
      "\u001b[0;31mFileNotFoundError\u001b[0m: [Errno 2] No such file or directory: '/home/jovyan/workingdirectory/7T_MOVIE3_CC2_v2.mp4_gray.npz'"
     ]
    }
   ],
   "source": [
    "push_thru_pyramid('/home/jovyan/workingdirectory/feature.json')"
   ]
  },
  {
   "cell_type": "code",
   "execution_count": 21,
   "id": "713c5acf-fea6-4043-9167-39c42190048a",
   "metadata": {
    "tags": []
   },
   "outputs": [],
   "source": [
    "features = np.load(\"/home/jovyan/workingdirectory/7T_MOVIE1_CC1_v2_features.npz\")['features']"
   ]
  },
  {
   "cell_type": "code",
   "execution_count": 22,
   "id": "e779b355-f21d-48d1-89f4-85e2de113e5e",
   "metadata": {
    "tags": []
   },
   "outputs": [
    {
     "data": {
      "text/plain": [
       "(22104, 8)"
      ]
     },
     "execution_count": 22,
     "metadata": {},
     "output_type": "execute_result"
    }
   ],
   "source": [
    "features.shape"
   ]
  },
  {
   "cell_type": "code",
   "execution_count": 7,
   "id": "fc77a8c6-7ef5-446b-b487-357b9dade72a",
   "metadata": {
    "tags": []
   },
   "outputs": [
    {
     "data": {
      "image/png": "[encoded data removed]",
      "text/plain": [
       "<Figure size 1200x1200 with 1 Axes>"
      ]
     },
     "metadata": {},
     "output_type": "display_data"
    }
   ],
   "source": [
    "import matplotlib.pyplot as plt\n",
    "fig, ax = plt.subplots(figsize=(12, 12))\n",
    "ax.matshow(features, aspect='auto')\n",
    "plt.show()"
   ]
  },
  {
   "cell_type": "code",
   "execution_count": null,
   "id": "51ab430d-b98a-498c-9071-ed8b01a818bc",
   "metadata": {},
   "outputs": [],
   "source": [
    "def decimate_array(fps, sr):\n",
    "    "
   ]
  },
  {
   "cell_type": "code",
   "execution_count": null,
   "id": "27916659-70c2-4d0a-bd2b-7794036d068d",
   "metadata": {
    "jupyter": {
     "source_hidden": true
    },
    "tags": []
   },
   "outputs": [],
   "source": [
    "# import numpy as np\n",
    "\n",
    "# # Sample (8100, 9216) array\n",
    "# total_frames = x\n",
    "# sr = 1\n",
    "# fps = 24\n",
    "# num_bins = total_frames / fps*sr\n",
    "\n",
    "# def hanning_filter_3D(frames, downsample_factor=fps):\n",
    "#     # Number of frames and frame size.\n",
    "#     num_frames, height, width = frames.shape\n",
    "\n",
    "#     # Create a Hanning window as the low-pass filter.\n",
    "#     hanning_window = np.hanning(downsample_factor)\n",
    "\n",
    "#     # Initialize an array to store the filtered frames.\n",
    "#     filtered_frames = np.zeros((num_frames // downsample_factor, height, width))\n",
    "\n",
    "#     # Apply Hanning filter to each group of 'downsample_factor' frames.\n",
    "#     for i in range(0, num_frames, downsample_factor):\n",
    "#         group_of_frames = frames[i:i+downsample_factor]\n",
    "#         filtered_group = convolve(group_of_frames, hanning_window[:, None, None], mode='same')\n",
    "#         filtered_frames[i // downsample_factor] = np.mean(filtered_group, axis=0)\n",
    "\n",
    "#     return filtered_frames"
   ]
  },
  {
   "cell_type": "code",
   "execution_count": 1,
   "id": "bc93297e-49cf-412c-b223-18114975902e",
   "metadata": {
    "tags": []
   },
   "outputs": [
    {
     "data": {
      "text/plain": [
       "'/home/jovyan/visual-feature-decoding/extract_features/motionenergy/archive'"
      ]
     },
     "execution_count": 1,
     "metadata": {},
     "output_type": "execute_result"
    }
   ],
   "source": [
    "pwd"
   ]
  },
  {
   "cell_type": "code",
   "execution_count": 2,
   "id": "0534b98a-28a3-45c2-b10a-a4abd390a7f1",
   "metadata": {
    "tags": []
   },
   "outputs": [
    {
     "name": "stdout",
     "output_type": "stream",
     "text": [
      "/home/jovyan/visual-feature-decoding/extract_features/motionenergy\n"
     ]
    }
   ],
   "source": [
    "cd .."
   ]
  },
  {
   "cell_type": "code",
   "execution_count": 3,
   "id": "f814dfd3-5d63-48aa-8bd6-d25604ea9158",
   "metadata": {
    "tags": []
   },
   "outputs": [],
   "source": [
    "import utils\n",
    "import numpy as np"
   ]
  },
  {
   "cell_type": "code",
   "execution_count": 4,
   "id": "f54f5ac5-158e-4480-b73c-d27b960fe635",
   "metadata": {
    "tags": []
   },
   "outputs": [],
   "source": [
    "json_filepath = '/home/jovyan/visual-feature-decoding/extract_features/feature.json'"
   ]
  },
  {
   "cell_type": "code",
   "execution_count": 5,
   "id": "8ab98e8e-d7ef-4656-b9fa-0d50149a5589",
   "metadata": {
    "tags": []
   },
   "outputs": [
    {
     "name": "stdout",
     "output_type": "stream",
     "text": [
      "saved pyramid!\n",
      "saved filters!\n",
      "down_sampled features for 7T_MOVIE1_CC1_v2.mp4 already done!\n",
      "down_sampled features for 7T_MOVIE2_HO1_v2.mp4 already done!\n"
     ]
    },
    {
     "name": "stderr",
     "output_type": "stream",
     "text": [
      "project_stimulus: 100%|██████████| 1580/1580 [05:38<00:00,  4.67it/s]\n"
     ]
    },
    {
     "name": "stdout",
     "output_type": "stream",
     "text": [
      "(21960, 1580)\n"
     ]
    },
    {
     "ename": "FileNotFoundError",
     "evalue": "[Errno 2] No such file or directory: '/home/jovyan/workingdirectory/7T_MOVIE4_HO2_v2_gray.npz'",
     "output_type": "error",
     "traceback": [
      "\u001b[0;31m---------------------------------------------------------------------------\u001b[0m",
      "\u001b[0;31mFileNotFoundError\u001b[0m                         Traceback (most recent call last)",
      "Cell \u001b[0;32mIn[5], line 1\u001b[0m\n\u001b[0;32m----> 1\u001b[0m \u001b[43mutils\u001b[49m\u001b[38;5;241;43m.\u001b[39;49m\u001b[43mpush_thru_pyramid\u001b[49m\u001b[43m(\u001b[49m\u001b[43mjson_filepath\u001b[49m\u001b[43m)\u001b[49m\n",
      "File \u001b[0;32m~/visual-feature-decoding/extract_features/motionenergy/utils.py:220\u001b[0m, in \u001b[0;36mpush_thru_pyramid\u001b[0;34m(json_filepath)\u001b[0m\n\u001b[1;32m    217\u001b[0m movienoextension \u001b[38;5;241m=\u001b[39m movie[:\u001b[38;5;28mlen\u001b[39m(movie)\u001b[38;5;241m-\u001b[39m\u001b[38;5;241m4\u001b[39m]\n\u001b[1;32m    219\u001b[0m \u001b[38;5;28;01mif\u001b[39;00m \u001b[38;5;129;01mnot\u001b[39;00m os\u001b[38;5;241m.\u001b[39mpath\u001b[38;5;241m.\u001b[39mexists(savepath \u001b[38;5;241m+\u001b[39m movienoextension \u001b[38;5;241m+\u001b[39m \u001b[38;5;124m\"\u001b[39m\u001b[38;5;124m_downsampledfeatures.npz\u001b[39m\u001b[38;5;124m\"\u001b[39m):\n\u001b[0;32m--> 220\u001b[0m     data \u001b[38;5;241m=\u001b[39m \u001b[43mnp\u001b[49m\u001b[38;5;241;43m.\u001b[39;49m\u001b[43mload\u001b[49m\u001b[43m(\u001b[49m\u001b[43msavepath\u001b[49m\u001b[43m \u001b[49m\u001b[38;5;241;43m+\u001b[39;49m\u001b[43m \u001b[49m\u001b[43mmovienoextension\u001b[49m\u001b[43m \u001b[49m\u001b[38;5;241;43m+\u001b[39;49m\u001b[43m \u001b[49m\u001b[38;5;124;43m\"\u001b[39;49m\u001b[38;5;124;43m_gray.npz\u001b[39;49m\u001b[38;5;124;43m\"\u001b[39;49m\u001b[43m,\u001b[49m\u001b[43m \u001b[49m\u001b[43mallow_pickle\u001b[49m\u001b[38;5;241;43m=\u001b[39;49m\u001b[38;5;28;43;01mTrue\u001b[39;49;00m\u001b[43m)\u001b[49m[\u001b[38;5;124m'\u001b[39m\u001b[38;5;124mmovie\u001b[39m\u001b[38;5;124m'\u001b[39m]\n\u001b[1;32m    221\u001b[0m     \u001b[38;5;66;03m#data expected to be nimages, vdim, hdim\u001b[39;00m\n\u001b[1;32m    222\u001b[0m     reorganized_array \u001b[38;5;241m=\u001b[39m np\u001b[38;5;241m.\u001b[39mtranspose(data, (\u001b[38;5;241m2\u001b[39m, \u001b[38;5;241m0\u001b[39m, \u001b[38;5;241m1\u001b[39m))\n",
      "File \u001b[0;32m/srv/conda/envs/lowlevel/lib/python3.8/site-packages/numpy/lib/npyio.py:417\u001b[0m, in \u001b[0;36mload\u001b[0;34m(file, mmap_mode, allow_pickle, fix_imports, encoding)\u001b[0m\n\u001b[1;32m    415\u001b[0m     own_fid \u001b[38;5;241m=\u001b[39m \u001b[38;5;28;01mFalse\u001b[39;00m\n\u001b[1;32m    416\u001b[0m \u001b[38;5;28;01melse\u001b[39;00m:\n\u001b[0;32m--> 417\u001b[0m     fid \u001b[38;5;241m=\u001b[39m stack\u001b[38;5;241m.\u001b[39menter_context(\u001b[38;5;28;43mopen\u001b[39;49m\u001b[43m(\u001b[49m\u001b[43mos_fspath\u001b[49m\u001b[43m(\u001b[49m\u001b[43mfile\u001b[49m\u001b[43m)\u001b[49m\u001b[43m,\u001b[49m\u001b[43m \u001b[49m\u001b[38;5;124;43m\"\u001b[39;49m\u001b[38;5;124;43mrb\u001b[39;49m\u001b[38;5;124;43m\"\u001b[39;49m\u001b[43m)\u001b[49m)\n\u001b[1;32m    418\u001b[0m     own_fid \u001b[38;5;241m=\u001b[39m \u001b[38;5;28;01mTrue\u001b[39;00m\n\u001b[1;32m    420\u001b[0m \u001b[38;5;66;03m# Code to distinguish from NumPy binary files and pickles.\u001b[39;00m\n",
      "\u001b[0;31mFileNotFoundError\u001b[0m: [Errno 2] No such file or directory: '/home/jovyan/workingdirectory/7T_MOVIE4_HO2_v2_gray.npz'"
     ]
    }
   ],
   "source": [
    "utils.push_thru_pyramid(json_filepath)"
   ]
  },
  {
   "cell_type": "code",
   "execution_count": null,
   "id": "97fc6b1d-e64f-41d6-945e-8a47c454581d",
   "metadata": {
    "tags": []
   },
   "outputs": [],
   "source": [
    "features = np.load(\"/home/jovyan/workingdirectory/7T_MOVIE1_CC1_v2_downsampledfeatures.npz\", allow_pickle=True)['features']"
   ]
  },
  {
   "cell_type": "code",
   "execution_count": null,
   "id": "60174865-ca41-45b3-8e71-58030a67e092",
   "metadata": {
    "tags": []
   },
   "outputs": [],
   "source": [
    "features.shape"
   ]
  },
  {
   "cell_type": "code",
   "execution_count": 7,
   "id": "22c52817-f393-410c-b3be-bdb488ade081",
   "metadata": {
    "tags": []
   },
   "outputs": [],
   "source": [
    "import numpy as np\n",
    "from scipy import signal\n",
    "from tqdm import tqdm\n",
    "\n",
    "import numpy as np\n",
    "from scipy import signal\n",
    "\n",
    "def downsample_matrix(matrix, factor):\n",
    "    original_rows, original_cols = matrix.shape\n",
    "    new_cols = original_cols // factor\n",
    "\n",
    "    downsampled_matrix = np.empty((original_rows, new_cols))\n",
    "\n",
    "    for i in range(original_rows):\n",
    "        for j in range(new_cols):\n",
    "            start_idx = j * factor\n",
    "            end_idx = start_idx + factor\n",
    "            segment = matrix[i, start_idx:end_idx]\n",
    "            downsampled_matrix[i, j] = np.sum(segment * signal.windows.hann(factor)) / factor\n",
    "\n",
    "    return downsampled_matrix\n",
    "\n",
    "# Example usage\n",
    "downsample_factor = 24\n",
    "downsampled_matrix = downsample_matrix(features, downsample_factor)\n"
   ]
  },
  {
   "cell_type": "code",
   "execution_count": 8,
   "id": "f9168aaa-cfa3-4075-80ef-f3df78c45c5c",
   "metadata": {
    "tags": []
   },
   "outputs": [
    {
     "data": {
      "text/plain": [
       "(8, 921)"
      ]
     },
     "execution_count": 8,
     "metadata": {},
     "output_type": "execute_result"
    }
   ],
   "source": [
    "downsampled_matrix.shape"
   ]
  },
  {
   "cell_type": "code",
   "execution_count": null,
   "id": "38ab12bc-ede5-4255-9f0d-097b10071a88",
   "metadata": {},
   "outputs": [],
   "source": []
  }
 ],
 "metadata": {
  "kernelspec": {
   "display_name": "lowlevel",
   "language": "python",
   "name": "lowlevel"
  },
  "language_info": {
   "codemirror_mode": {
    "name": "ipython",
    "version": 3
   },
   "file_extension": ".py",
   "mimetype": "text/x-python",
   "name": "python",
   "nbconvert_exporter": "python",
   "pygments_lexer": "ipython3",
   "version": "3.8.17"
  }
 },
 "nbformat": 4,
 "nbformat_minor": 5
}
