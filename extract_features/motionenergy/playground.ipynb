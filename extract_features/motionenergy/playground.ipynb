{
 "cells": [
  {
   "cell_type": "markdown",
   "id": "ddf1a758-be3f-4759-a1d8-af09b4e49c69",
   "metadata": {
    "tags": []
   },
   "source": [
    "### The premise of this notebook is to archetype a script for extracting motion energy features from a movie using Pymoten."
   ]
  },
  {
   "cell_type": "markdown",
   "id": "1df4cd1d-0c26-497f-928f-4d42ecd4b7a7",
   "metadata": {},
   "source": [
    "Information:\n",
    "From [Finn's paper](https://www.sciencedirect.com/science/article/pii/S1053811921002408)  \n",
    "- MOVIE runs 1–4 were 921, 918, 915, and 901 TRs, respectively.  \n",
    "- \n",
    "\n",
    "The steps can be as follows:\n",
    "1. Movies to png to luminance\n",
    "2. Create pyramid\n",
    "3. Push luminance through pyramid\n",
    "4. Save features\n",
    "5. Clean features\n"
   ]
  },
  {
   "cell_type": "markdown",
   "id": "37b73af3-d3cf-4ab3-ac26-b2c9d0b34b5b",
   "metadata": {},
   "source": [
    "import stuff"
   ]
  },
  {
   "cell_type": "code",
   "execution_count": 11,
   "id": "e0633c73-f2e2-4c45-ac15-ba36dbf20e8a",
   "metadata": {
    "tags": []
   },
   "outputs": [],
   "source": [
    "import numpy as np\n",
    "import matplotlib.pyplot as plt\n",
    "import os\n",
    "import json\n",
    "import subprocess\n",
    "from skimage import io\n",
    "from skimage.transform import resize\n",
    "from skimage import img_as_ubyte\n",
    "import imageio\n",
    "import numpy as np"
   ]
  },
  {
   "cell_type": "markdown",
   "id": "283b4626-f8fa-4c26-83b5-ff3300415fd5",
   "metadata": {},
   "source": [
    "data-showcase folder/ 000-paths-intro.ipynb"
   ]
  },
  {
   "cell_type": "markdown",
   "id": "7967484e-523e-4ea8-94f2-4cc342053270",
   "metadata": {},
   "source": [
    "filepaths and parameters"
   ]
  },
  {
   "cell_type": "code",
   "execution_count": 12,
   "id": "51ca777f-d32f-40f7-a41e-2c120a2f7132",
   "metadata": {},
   "outputs": [],
   "source": [
    "# hdim = 96\n",
    "# vdim = 96\n",
    "# downloadpath = 'shared/hcp-7T_Movies/movie/unzip/Post_20140821_version/'\n",
    "# movies = ['7T_MOVIE1_CC1_v2.mp4', '7T_MOVIE2_HO1_v2.mp4', '7T_MOVIE3_CC2_v2.mp4', '7T_MOVIE4_HO2_v2.mp4']\n",
    "# savepath = 'workingdirectory'"
   ]
  },
  {
   "cell_type": "markdown",
   "id": "2d7ccbf4-a35b-40f1-a223-7fe55e397955",
   "metadata": {},
   "source": [
    "functions"
   ]
  },
  {
   "cell_type": "code",
   "execution_count": 13,
   "id": "da4b896e-cab4-456d-a56e-e9506bcf7f7e",
   "metadata": {
    "jupyter": {
     "source_hidden": true
    },
    "tags": []
   },
   "outputs": [],
   "source": [
    "def run_bash_command(command):\n",
    "    '''Runs a bash command and prints the output and error.'''\n",
    "    process = subprocess.Popen(command, shell=True, stdout=subprocess.PIPE, stderr=subprocess.PIPE)\n",
    "    output, error = process.communicate()\n",
    "    output = output.decode('utf-8')\n",
    "    error = error.decode('utf-8')\n",
    "\n",
    "    # Check the return code\n",
    "    return_code = process.returncode\n",
    "    if return_code == 0:\n",
    "        # Command executed successfully\n",
    "        print(\"Bash command executed successfully!\")\n",
    "        if output:\n",
    "            print(\"Output:\")\n",
    "            print(output)\n",
    "    else:\n",
    "        # Command execution failed\n",
    "        print(f\"Bash command failed with return code: {return_code}\")\n",
    "        if error:\n",
    "            print(\"Error:\")\n",
    "            print(error)\n",
    "\n",
    "    return None"
   ]
  },
  {
   "cell_type": "code",
   "execution_count": null,
   "id": "d6e0ecd5-f7cf-405e-a3f6-8bb28c64dbbb",
   "metadata": {
    "tags": []
   },
   "outputs": [],
   "source": [
    "# def movie_to_png(json_filepath):\n",
    "#     #open feature json file\n",
    "with open('/home/jovyan/workingdirectory/feature.json') as f:\n",
    "    data = json.load(f)\n",
    "\n",
    "## isolate all info for each stimuli\n",
    "for stimuli, stimuli_data in data.items():\n",
    "    hdim = stimuli_data['hdim']\n",
    "    vdim = stimuli_data['vdim']\n",
    "    downloadpath = stimuli_data['downloadpath']\n",
    "    movies = stimuli_data['movies']\n",
    "    savepath = stimuli_data['savepath']\n",
    "    for movie in movies:\n",
    "        moviepath = os.path.join(downloadpath, movie)\n",
    "        \n",
    "        video_reader = imageio.get_reader(moviepath)\n",
    "\n",
    "        # Define the output directory where the .png images will be saved.\n",
    "        movienoextension = movie[:len(movie)-4]\n",
    "        output_directory = f'{savepath} + {movienoextension}/'\n",
    "        if not os.path.exists(output_directory):\n",
    "            os.makedirs(output_directory)\n",
    "\n",
    "        # Loop through each frame and save it as a .png image.\n",
    "        for frame_num, frame in enumerate(video_reader):\n",
    "            # Create the filename for the current frame.\n",
    "            filename = f'{output_directory}frame_{frame_num:04d}.png'\n",
    "\n",
    "            # Save the frame as a .png image.\n",
    "            imageio.imwrite(filename, frame)\n",
    "\n",
    "        # Close the VideoReader object.\n",
    "        video_reader.close()"
   ]
  },
  {
   "cell_type": "code",
   "execution_count": 5,
   "id": "2d61a692-61c3-4f41-b787-d0c109cf8b28",
   "metadata": {
    "tags": []
   },
   "outputs": [],
   "source": [
    "def png_to_npz(json_filepath):\n",
    "    '''Converts all pngs in a folder to a single npz file.\n",
    "    '''\n",
    "    #open feature json file\n",
    "    with open(json_filepath) as f:\n",
    "        data = json.load(f)\n",
    "\n",
    "    ## isolate all info for each stimuli\n",
    "    for stimuli, stimuli_data in data.items():\n",
    "        hdim = stimuli_data['hdim']\n",
    "        vdim = stimuli_data['vdim']\n",
    "        downloadpath = stimuli_data['downloadpath']\n",
    "        movies = stimuli_data['movies']\n",
    "        savepath = stimuli_data['savepath']\n",
    "            "
   ]
  },
  {
   "cell_type": "code",
   "execution_count": null,
   "id": "ed1928df-58ea-4fc6-9543-7e7b78e2876d",
   "metadata": {},
   "outputs": [],
   "source": [
    "        # for train and test stimuli\n",
    "        for key, runs in folders.items():\n",
    "            #for train stimuli\n",
    "            if key == 'train_folders':\n",
    "                #for each train stimuli\n",
    "                for run, indexfile in runs.items():\n",
    "                    INDEXFILEPATH= png_save_path + indexfile\n",
    "                    print(INDEXFILEPATH)\n",
    "                    with open(INDEXFILEPATH) as f:\n",
    "                        filenames = f.read().splitlines()\n",
    "\n",
    "                    ### number of images\n",
    "                    n = len(filenames)\n",
    "                    \n",
    "                    ### add full file path to image file names\n",
    "                    actualpath = png_save_path + run + '/'\n",
    "                    images = [actualpath + x for x in filenames]\n",
    "\n",
    "                    #downsize images to\n",
    "                    # hdim = 96\n",
    "                    # vdim = 96\n",
    "\n",
    "                    #place to save!\n",
    "                    movieimages = np.zeros(shape=(len(images),hdim,vdim,3), dtype=np.uint8)\n",
    "\n",
    "                    count = 0\n",
    "                    ### read in images, put in numpy array\n",
    "                    for idx, image in enumerate(images):\n",
    "                        img = io.imread(image)\n",
    "                        img = resize(img, (hdim, vdim))\n",
    "                        img = img_as_ubyte(img) #convert to 8uint\n",
    "                        movieimages[idx] = img\n",
    "                        count += 1\n",
    "                        if count % 100 == 0:\n",
    "                            print(count, img.shape)\n",
    "\n",
    "                    print('3. got 3D array, saving')\n",
    "\n",
    "                    npz_savepath = save_path + f\"{hdim}by{vdim}/\"\n",
    "                    if not os.path.exists(npz_savepath):\n",
    "                        os.makedirs(npz_savepath)\n",
    "\n",
    "                    #### save images\n",
    "                    np.savez(npz_savepath + f\"{run}_orig.npz\", movie=movieimages) \n",
    "                    \n",
    "            elif key == 'test_folders':\n",
    "                for run, indexfile in runs.items():\n",
    "                    for repeat in range(1,4):\n",
    "                        INDEXFILEPATH= save_path + f'valseq3minby10_0{repeat}.index'\n",
    "\n",
    "                        #for index, sess in enumerate(folders):\n",
    "                        print(\"for \" + f\"{key}\" + ':')\n",
    "                        with open(INDEXFILEPATH) as f:\n",
    "                            filenames = f.read().splitlines()\n",
    "                        print('1. got file names')\n",
    "\n",
    "                        ### number of images\n",
    "                        n = len(filenames)\n",
    "                        \n",
    "                        actualpath = png_save_path + key + '/'\n",
    "                        images = [actualpath + x for x in filenames]\n",
    "                        print('2. got file path names')\n",
    "                        print(len(images))\n",
    "\n",
    "                        movieimages = np.zeros(shape=(len(images),hdim,vdim,3), dtype=np.uint8)\n",
    "                        \n",
    "                        npz_savepath = save_path + f\"{hdim}by{vdim}/\"\n",
    "                        if not os.path.exists(npz_savepath):\n",
    "                            os.makedirs(npz_savepath)\n",
    "\n",
    "                        #### save images\n",
    "                        np.savez(npz_savepath + f\"{run}_orig.npz\", movie=movieimages) "
   ]
  }
 ],
 "metadata": {
  "kernelspec": {
   "display_name": "Python 3 (ipykernel)",
   "language": "python",
   "name": "python3"
  },
  "language_info": {
   "codemirror_mode": {
    "name": "ipython",
    "version": 3
   },
   "file_extension": ".py",
   "mimetype": "text/x-python",
   "name": "python",
   "nbconvert_exporter": "python",
   "pygments_lexer": "ipython3",
   "version": "3.10.11"
  }
 },
 "nbformat": 4,
 "nbformat_minor": 5
}
