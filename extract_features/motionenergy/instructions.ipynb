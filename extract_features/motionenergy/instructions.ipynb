{
 "cells": [
  {
   "cell_type": "markdown",
   "id": "ed68752c-dbcd-40e1-837b-45ff83e805fd",
   "metadata": {},
   "source": [
    "### This notebook is a walkthrough of how to use the extract_motion_energy.py script. \n",
    "This script is essentially a wrapper of [pymoten](https://gallantlab.org/pymoten/), and saves out a feature time-series that is (filters, time).  \n",
    "This script does not have a downsampling function yet, so this should be added to this script or addressed before modeling.  \n",
    "\n",
    "The first thing you need to do is make a features.json file that defines the parameters of your movie, the gabor pyramid you want to use, the download path and the save path."
   ]
  },
  {
   "cell_type": "markdown",
   "id": "58b0ce28-3c44-411c-aacf-a892ec05702d",
   "metadata": {},
   "source": [
    "{\"hcpmovies\": {  \n",
    "&emsp; \"hdim\": 90,  \n",
    "&emsp;      \"vdim\": 128,  \n",
    "&emsp;      \"fps\": 24,  \n",
    "&emsp;      \"ori\": [0, 90, 180, 270],  \n",
    "&emsp;      \"sf\": [0,4],  \n",
    "&emsp;      \"tf\": [0,4],  \n",
    "&emsp;      \"downloadpath\": \"/home/jovyan/shared/hcp-7T_Movies/movie/unzip/Post_20140821_version/\",  \n",
    "&emsp;      \"movies\": [\"7T_MOVIE1_CC1_v2.mp4\",   \n",
    "&emsp; &emsp; &emsp; &emsp; &emsp;  \"7T_MOVIE2_HO1_v2.mp4\",   \n",
    "&emsp; &emsp; &emsp; &emsp; &emsp;  \"7T_MOVIE3_CC2_v2.mp4\",   \n",
    "&emsp; &emsp; &emsp; &emsp; &emsp;  \"7T_MOVIE4_HO2_v2.mp4],\n",
    "&emsp; &emsp; &emsp; &emsp; &emsp;   \n",
    "&emsp; \"savepath\": \"/home/jovyan/workingdirectory/\"  \n",
    "&emsp; }  \n",
    "}  "
   ]
  },
  {
   "cell_type": "code",
   "execution_count": null,
   "id": "48c02224-e412-4c70-a002-f1894e7f76aa",
   "metadata": {},
   "outputs": [],
   "source": []
  }
 ],
 "metadata": {
  "kernelspec": {
   "display_name": "lowlevel",
   "language": "python",
   "name": "lowlevel"
  },
  "language_info": {
   "codemirror_mode": {
    "name": "ipython",
    "version": 3
   },
   "file_extension": ".py",
   "mimetype": "text/x-python",
   "name": "python",
   "nbconvert_exporter": "python",
   "pygments_lexer": "ipython3",
   "version": "3.8.17"
  }
 },
 "nbformat": 4,
 "nbformat_minor": 5
}
