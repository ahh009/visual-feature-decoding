{
 "cells": [
  {
   "cell_type": "markdown",
   "id": "ed68752c-dbcd-40e1-837b-45ff83e805fd",
   "metadata": {},
   "source": [
    "### This notebook is a walkthrough of how to use the extract_motion_energy.py script. \n",
    "This script is essentially a wrapper of [pymoten](https://gallantlab.org/pymoten/), and saves out a feature time-series that is (filters, time).  \n",
    "This script does not have a downsampling function yet, so this should be added to this script or addressed before modeling.  \n",
    "\n",
    "The first thing you need to do is make a features.json file that defines the parameters of your movie, the gabor pyramid you want to use, the download path and the save path."
   ]
  },
  {
   "cell_type": "markdown",
   "id": "58b0ce28-3c44-411c-aacf-a892ec05702d",
   "metadata": {},
   "source": [
    "#### Here's an example of what should go in the .json file:  \n",
    "\n",
    "\n",
    "\n",
    "{\"hcpmovies\": {  \n",
    "&emsp;      \"hdim\": 90,                ---> desired horizontal dimension of downsampled image  \n",
    "&emsp;      \"vdim\": 128,               ---> desired vertical dimension of downsampled image  \n",
    "&emsp;      \"fps\": 24,                 ---> frames per second  \n",
    "&emsp;      \"sd\": [0, 90, 180, 270],  ---> spatial directions of gabors (aka motion direction)  \n",
    "&emsp;      \"sf\": [0,4],               ---> spatial frequency range for gabors  \n",
    "&emsp;      \"tf\": [0,4],               ---> temporal frequency range for gabors  \n",
    "&emsp;      \"downloadpath\": \"/home/jovyan/shared/hcp-7T_Movies/movie/unzip/Post_20140821_version/\", ---> path 2 movies  \n",
    "&emsp;      \"movies\": [\"7T_MOVIE1_CC1_v2.mp4\", ---> list of movie names  \n",
    "&emsp; &emsp; &emsp; &emsp; &emsp;  \"7T_MOVIE2_HO1_v2.mp4\",   \n",
    "&emsp; &emsp; &emsp; &emsp; &emsp;  \"7T_MOVIE3_CC2_v2.mp4\",   \n",
    "&emsp; &emsp; &emsp; &emsp; &emsp;  \"7T_MOVIE4_HO2_v2.mp4],\n",
    "&emsp; &emsp; &emsp; &emsp; &emsp;   \n",
    "&emsp; \"savepath\": \"/home/jovyan/workingdirectory/\" ---> where you want to save features  \n",
    "&emsp; }  \n",
    "}  "
   ]
  },
  {
   "cell_type": "markdown",
   "id": "7cffc3c2-12a9-48ce-bfe7-b5628c6f9768",
   "metadata": {
    "tags": []
   },
   "source": [
    "#### Gabor pyramid notes\n",
    "The package that generates the gabor pyramid ([pymoten](https://gallantlab.org/pymoten/index.html)) uses hdim, vdim, spatial frequency (sf), temporal frequency (tf) and spatial directions (sd) parameters ([as well as a slew of other parameters](https://gallantlab.org/pymoten/autodoc/moten.pyramids.html#moten.pyramids.MotionEnergyPyramid)) to generate the full set of gabor filters used in the gabor pyramid.  \n",
    "  \n",
    "You can think of the gabor pyramid as being a huge set of filters with different spatial locations, sizes, orientations, spatial frequencies, and spatial directions (aka motion direction).  \n",
    "\n",
    "The spatial direction parameter corresponds to the direction of motion the filter prefers, which can be decomposed into orientation. For example, a filter with spatial direction 0º and a filter with spatial direction 180º have the same orientation (90º)."
   ]
  },
  {
   "cell_type": "markdown",
   "id": "6edd0589-8683-4b80-baa6-b0f3766020a6",
   "metadata": {},
   "source": [
    "#### Before running anything, you'll want to make a conda environment.  \n",
    "##### Here are the terminal calls I ran to make my conda environment called 'low-level':  \n",
    "\n",
    "1. This creates the conda environment called lowlevel with python 3.8. I'm using python 3.8 because of numpy deprecation issues.\n",
    "```\n",
    "conda create --name lowlevel python=3.8  \n",
    "```\n",
    "2. This installs all python-based packages\n",
    "```\n",
    "pip install numpy==1.20.1 matplotlib scikit-image scikit-video pymoten pillow==9.4.0 moviepy joblib\n",
    "```\n",
    "3. This installs conda packages\n",
    "```\n",
    "conda install ipykernel nb_conda_kernels jupyter  \n",
    "```\n",
    "4. This installs ffmpeg using the conda-forge channel\n",
    "```\n",
    "conda install -c conda-forge ffmpeg  \n",
    "```\n",
    "\n",
    "5. This step is important for making sure my lowlevel conda environment is available in jupyter hub notebook\n",
    "```\n",
    "python -m ipykernel install --user --name lowlevel\n",
    "```"
   ]
  },
  {
   "cell_type": "markdown",
   "id": "9ad4d419-7c52-4e3d-b578-2a153514cdfb",
   "metadata": {
    "tags": []
   },
   "source": [
    "#### If you want to use a python notebook"
   ]
  },
  {
   "cell_type": "code",
   "execution_count": 6,
   "id": "ec358167-56e8-455c-869e-c4998d44d331",
   "metadata": {
    "tags": []
   },
   "outputs": [],
   "source": [
    "import utils"
   ]
  },
  {
   "cell_type": "code",
   "execution_count": 10,
   "id": "7fcd3b63-b25e-4c8e-8a4c-25ba2d08f4a2",
   "metadata": {
    "tags": []
   },
   "outputs": [],
   "source": [
    "json_filepath = '/home/jovyan/visual-feature-decoding/extract_features/feature.json'"
   ]
  },
  {
   "cell_type": "code",
   "execution_count": null,
   "id": "85b83c92-64c7-447f-a86e-cef221cfd64f",
   "metadata": {
    "tags": []
   },
   "outputs": [
    {
     "name": "stderr",
     "output_type": "stream",
     "text": [
      "7T_MOVIE1_CC1_v2.mp4: 100%|██████████| 22104/22104 [1:20:28<00:00,  4.58it/s]\n",
      "7T_MOVIE2_HO1_v2.mp4: 100%|██████████| 22032/22032 [1:21:46<00:00,  4.49it/s]\n",
      "7T_MOVIE3_CC2_v2.mp4:  60%|██████    | 13243/21960 [48:25<30:06,  4.82it/s] "
     ]
    }
   ],
   "source": [
    "utils.movie_to_gray_array(json_filepath)"
   ]
  },
  {
   "cell_type": "code",
   "execution_count": null,
   "id": "741a5e57-f0e7-48ed-8a41-baf2d66414f3",
   "metadata": {},
   "outputs": [],
   "source": [
    "utils.push_thru_pyramid(json_filepath)"
   ]
  },
  {
   "cell_type": "code",
   "execution_count": null,
   "id": "f540873f-0b70-4d25-ab89-3234041c97c6",
   "metadata": {},
   "outputs": [],
   "source": []
  },
  {
   "cell_type": "markdown",
   "id": "90113033-642f-4692-8b58-7e32192a3a71",
   "metadata": {},
   "source": [
    "#### if you want to call from the command line  \n",
    "\n",
    "1. first activate the conda environment!\n",
    "```\n",
    "conda activate lowlevel\n",
    "```  \n",
    "\n",
    "2. then run the following code in the terminal, replacing your json_filepath with the correct one :-)\n",
    "```\n",
    "python extract_motion_energy.py '/home/jovyan/visual-feature-decoding/extract_features/motionenergy/feature.json'\n",
    "```"
   ]
  },
  {
   "cell_type": "code",
   "execution_count": null,
   "id": "95d75671-40b9-4022-b41c-6b4bb9340ae8",
   "metadata": {},
   "outputs": [],
   "source": []
  }
 ],
 "metadata": {
  "kernelspec": {
   "display_name": "lowlevel",
   "language": "python",
   "name": "lowlevel"
  },
  "language_info": {
   "codemirror_mode": {
    "name": "ipython",
    "version": 3
   },
   "file_extension": ".py",
   "mimetype": "text/x-python",
   "name": "python",
   "nbconvert_exporter": "python",
   "pygments_lexer": "ipython3",
   "version": "3.8.17"
  }
 },
 "nbformat": 4,
 "nbformat_minor": 5
}
